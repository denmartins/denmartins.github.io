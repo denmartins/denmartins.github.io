{
 "cells": [
  {
   "cell_type": "markdown",
   "id": "b75f77f3",
   "metadata": {},
   "source": [
    "# Inteligência Artificial I - Prática 02\n",
    "\n",
    "## Introdução ao Aprendizado de Máquina"
   ]
  },
  {
   "cell_type": "code",
   "execution_count": null,
   "id": "21084ec3",
   "metadata": {},
   "outputs": [],
   "source": [
    "# Bibliotecas inicialmente necessárias\n",
    "\n",
    "from itertools import product\n",
    "import random\n",
    "import matplotlib.pyplot as plt\n",
    "import matplotlib.pylab as pylab\n",
    "\n",
    "params = {'legend.fontsize': 20,\n",
    "          'figure.figsize': (15,5),\n",
    "          'axes.labelsize': 20,\n",
    "          'axes.titlesize': 20,\n",
    "          'xtick.labelsize': 20,\n",
    "          'ytick.labelsize': 20}"
   ]
  },
  {
   "cell_type": "markdown",
   "id": "e1d454c0",
   "metadata": {},
   "source": [
    "**Questão 1)** Dados repassados pelos analistas de perfis:"
   ]
  },
  {
   "cell_type": "code",
   "execution_count": null,
   "id": "427ad337",
   "metadata": {},
   "outputs": [],
   "source": [
    "dots_1 = [(random.random() * 2.0, random.random() * 2.0) for _ in range(10)]\n",
    "\n",
    "#print(dots_1)"
   ]
  },
  {
   "cell_type": "code",
   "execution_count": null,
   "id": "a2a22370",
   "metadata": {},
   "outputs": [],
   "source": [
    "dots_2 = [((random.random() * 2.0) + 2.0, (random.random() * 2.0) + 2.0) for _ in range(10)]\n",
    "\n",
    "#print(dots_2)"
   ]
  },
  {
   "cell_type": "markdown",
   "id": "5107df4e",
   "metadata": {},
   "source": [
    "Visualizando o perfil dos clientes graficamente:"
   ]
  },
  {
   "cell_type": "code",
   "execution_count": null,
   "id": "68200153",
   "metadata": {},
   "outputs": [],
   "source": [
    "for i in range(len(dots_1)):\n",
    "    \n",
    "    pylab.rcParams.update(params)\n",
    "    plt.plot(dots_1[i][0], dots_1[i][1], c = 'blue', marker = 'o')\n",
    "    plt.plot(dots_2[i][0], dots_2[i][1], c = 'red', marker = 'o')\n",
    "    plt.legend(['Comédia','Drama'])\n",
    "    \n",
    "plt.show()"
   ]
  },
  {
   "cell_type": "markdown",
   "id": "1cf6b3cf",
   "metadata": {},
   "source": [
    "**Questão 2)** O perfil do novo cliente:"
   ]
  },
  {
   "cell_type": "code",
   "execution_count": null,
   "id": "1187bf14",
   "metadata": {},
   "outputs": [],
   "source": [
    "newdot = [((random.random() * 2.0) + 1.0, (random.random() * 2.0) + 1.0)]\n",
    "\n",
    "#print(newdot)"
   ]
  },
  {
   "cell_type": "code",
   "execution_count": null,
   "id": "06baf0c0",
   "metadata": {},
   "outputs": [],
   "source": [
    "for i in range(len(dots_1)):\n",
    "    \n",
    "    pylab.rcParams.update(params)\n",
    "    plt.plot(dots_1[i][0], dots_1[i][1], c = 'blue', marker = 'o')\n",
    "    plt.plot(dots_2[i][0], dots_2[i][1], c = 'red', marker = 'o')\n",
    "    \n",
    "plt.plot(newdot[0][0], newdot[0][1], c = 'green', marker = 's', markersize = 12)\n",
    "plt.legend(['Comédia','Drama'])    \n",
    "plt.show()"
   ]
  },
  {
   "cell_type": "markdown",
   "id": "02ddfd3f",
   "metadata": {},
   "source": [
    "**Questão 3)** Dados envolvendo os filmes de Ficção Científica e Ação:"
   ]
  },
  {
   "cell_type": "code",
   "execution_count": null,
   "id": "3b987988",
   "metadata": {},
   "outputs": [],
   "source": [
    "ficcao = [((random.random() * 2.0) + 0.5, (random.random() * 2.0) + 1.0) for _ in range(25)]\n",
    "acao = [((random.random() * 2.0)+1.0, (random.random()*2.0)+1.5) for _ in range(25)] \n",
    "newdots = [((random.random()*2.0)+1.0, (random.random()*2.0)+1.5) for _ in range(3)]"
   ]
  },
  {
   "cell_type": "code",
   "execution_count": null,
   "id": "dc329b97",
   "metadata": {},
   "outputs": [],
   "source": [
    "for i in range(len(ficcao)):\n",
    "    \n",
    "    pylab.rcParams.update(params)\n",
    "    plt.plot(ficcao[i][0], ficcao[i][1], c = 'navy', marker = 'o')\n",
    "    plt.plot(acao[i][0], acao[i][1], c = 'darkorange', marker = 'o')\n",
    "    plt.legend(['Ficção Científica','Ação'])\n",
    "    \n",
    "plt.plot(newdots[0][0], newdots[0][1], c = 'cyan', marker = 's', markersize = 12)\n",
    "plt.plot(newdots[1][0], newdots[1][1], c = 'cyan', marker = 's', markersize = 12)\n",
    "plt.plot(newdots[2][0], newdots[2][1], c = 'cyan', marker = 's', markersize = 12)\n",
    "plt.show()"
   ]
  }
 ],
 "metadata": {
  "kernelspec": {
   "display_name": "Python 3 (ipykernel)",
   "language": "python",
   "name": "python3"
  },
  "language_info": {
   "codemirror_mode": {
    "name": "ipython",
    "version": 3
   },
   "file_extension": ".py",
   "mimetype": "text/x-python",
   "name": "python",
   "nbconvert_exporter": "python",
   "pygments_lexer": "ipython3",
   "version": "3.9.12"
  }
 },
 "nbformat": 4,
 "nbformat_minor": 5
}
