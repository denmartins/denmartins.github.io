{
 "cells": [
  {
   "cell_type": "markdown",
   "id": "5b470226",
   "metadata": {},
   "source": [
    "---\n",
    "\n",
    "<center>\n",
    "\n",
    "#\n",
    "\n",
    "# Tópicos em Ciência de Dados\n",
    "### Prof. Dr. Denis Mayr Lima Martins\n",
    "\n",
    "### Pontifícia Universidade Católica de Campinas\n",
    "\n",
    "<img src=\"https://www.puc-campinas.edu.br/wp-content/uploads/2022/06/logo-puc.png\" height=100px/>\n",
    "\n",
    "</center>\n",
    "\n",
    "---"
   ]
  },
  {
   "cell_type": "markdown",
   "id": "639006a9",
   "metadata": {},
   "source": [
    "# Mecanismos de Atenção\n",
    "\n",
    "Exploraremos o mecanismo de atenção que constitui a espinha dorsal dos LLMs. Estes mecanismos, e mais especificamente a self‑attention, permite que cada token de uma sequência se relacione contextualmente com os demais tokens, gerando representações altamente informativas. \n",
    "\n",
    "No contexto de Transformers, essa operação é realizada de forma paralela, escalada por múltiplas \"heads\" e otimizada pela normalização por $\\sqrt{d_k}$. A partir da teoria dos pesos de atenção, a arquitetura GPT e variantes modernas (BERT, T5, etc.) alcançam performance sem precedentes em tarefas de geração, compreensão e tradução automática. \n",
    "\n",
    "Este notebook guia o estudante desde os fundamentos matemáticos da atenção até a implementação prática em NumPy, culminando na aplicação do algoritmo em dados simulados para ilustrar como a atenção influencia a representação dos tokens."
   ]
  },
  {
   "cell_type": "code",
   "execution_count": 25,
   "id": "9175f878",
   "metadata": {},
   "outputs": [],
   "source": [
    "import numpy as np\n",
    "import seaborn as sns\n",
    "import matplotlib.pyplot as plt"
   ]
  },
  {
   "cell_type": "code",
   "execution_count": 26,
   "id": "eea0f398",
   "metadata": {},
   "outputs": [],
   "source": [
    "SEED = 1234\n",
    "np.random.seed(SEED)"
   ]
  },
  {
   "cell_type": "code",
   "execution_count": 27,
   "id": "944efddc",
   "metadata": {},
   "outputs": [],
   "source": [
    "def get_embeddings(word):\n",
    "    return np.random.rand(3)\n",
    "\n",
    "def softmax(x):\n",
    "    return np.exp(x) / np.sum(np.exp(x), axis=0)"
   ]
  },
  {
   "cell_type": "markdown",
   "id": "a96ade32",
   "metadata": {},
   "source": [
    "## Tokenização e Embeddings"
   ]
  },
  {
   "cell_type": "code",
   "execution_count": 28,
   "id": "f2787c94",
   "metadata": {},
   "outputs": [],
   "source": [
    "sentence = \"The cat hunts mouse\"\n",
    "words = sentence.split()\n",
    "embeddings = np.array([get_embeddings(word) for word in words])"
   ]
  },
  {
   "cell_type": "markdown",
   "id": "e2e2e3b0",
   "metadata": {},
   "source": [
    "## Queries, Keys e Values\n",
    "\n",
    "Calcular  **projeção linear**: `Q`, `K` e `V` são obtidos multiplicando as embeddings pelos pesos correspondentes (`W_Q`, `W_K`, `W_V`).  "
   ]
  },
  {
   "cell_type": "code",
   "execution_count": 29,
   "id": "9d8acbe9",
   "metadata": {},
   "outputs": [
    {
     "data": {
      "text/plain": [
       "array([[0.73634365, 0.42647927, 0.85683087, 0.32620017],\n",
       "       [1.19358144, 0.83688612, 1.39485002, 0.64264091],\n",
       "       [1.11520082, 0.57175117, 1.27103597, 0.58396596],\n",
       "       [1.03917841, 0.67847982, 1.17557442, 0.75079734]])"
      ]
     },
     "execution_count": 29,
     "metadata": {},
     "output_type": "execute_result"
    }
   ],
   "source": [
    "WQ = np.random.random(embeddings.shape)\n",
    "Q = np.array(embeddings).dot(WQ.T)\n",
    "Q"
   ]
  },
  {
   "cell_type": "code",
   "execution_count": 30,
   "id": "ee603ed9",
   "metadata": {},
   "outputs": [
    {
     "data": {
      "text/plain": [
       "array([[0.75780912, 0.59683623, 0.78892439, 0.77407585],\n",
       "       [1.34918327, 1.02141999, 1.24144089, 0.85427868],\n",
       "       [1.16087731, 1.01643544, 1.35860721, 1.27956075],\n",
       "       [1.24943877, 1.08885856, 1.31923949, 0.73091859]])"
      ]
     },
     "execution_count": 30,
     "metadata": {},
     "output_type": "execute_result"
    }
   ],
   "source": [
    "WK = np.random.random(embeddings.shape)\n",
    "K = np.array(embeddings).dot(WK.T)\n",
    "K"
   ]
  },
  {
   "cell_type": "code",
   "execution_count": 31,
   "id": "216989af",
   "metadata": {},
   "outputs": [
    {
     "data": {
      "text/plain": [
       "array([[0.81080848, 0.2920271 , 0.68920257, 0.37484638],\n",
       "       [1.01372893, 0.81102414, 0.725672  , 0.60567394],\n",
       "       [1.22574627, 0.47592542, 1.1239937 , 0.72011269],\n",
       "       [0.74409112, 0.91022723, 0.58086821, 0.76392111]])"
      ]
     },
     "execution_count": 31,
     "metadata": {},
     "output_type": "execute_result"
    }
   ],
   "source": [
    "WV = np.random.random(embeddings.shape)\n",
    "V = np.array(embeddings).dot(WV.T)\n",
    "V"
   ]
  },
  {
   "cell_type": "markdown",
   "id": "20c02c3a",
   "metadata": {},
   "source": [
    "## Similaridade entre Q e V: Scaled Dot Product\n",
    "\n",
    " - Calcula a similaridade escalar entre cada par de tokens: $\\text{score} = \\frac{Q K^\\top}{\\sqrt{d_k}}$.  \n",
    "- O denominador normaliza o produto interno, evitando valores muito grandes que poderiam saturar a softmax."
   ]
  },
  {
   "cell_type": "code",
   "execution_count": 32,
   "id": "b072898b",
   "metadata": {},
   "outputs": [
    {
     "data": {
      "text/plain": [
       "array([[1.74102466, 2.77144772, 2.86978282, 2.7531828 ],\n",
       "       [3.00187487, 4.7457906 , 4.95359371, 4.71241696],\n",
       "       [2.64113639, 4.16539406, 4.34981804, 4.11956372],\n",
       "       [2.70105363, 4.19585129, 4.45382426, 4.13679429]])"
      ]
     },
     "execution_count": 32,
     "metadata": {},
     "output_type": "execute_result"
    }
   ],
   "source": [
    "similarity_scores = Q.dot(K.T)\n",
    "similarity_scores"
   ]
  },
  {
   "cell_type": "code",
   "execution_count": 33,
   "id": "936b98cc",
   "metadata": {},
   "outputs": [
    {
     "data": {
      "text/plain": [
       "array(2.)"
      ]
     },
     "execution_count": 33,
     "metadata": {},
     "output_type": "execute_result"
    }
   ],
   "source": [
    "dim = np.array(Q.shape[0]**0.5)\n",
    "dim"
   ]
  },
  {
   "cell_type": "code",
   "execution_count": 34,
   "id": "c8bc94e0",
   "metadata": {},
   "outputs": [
    {
     "data": {
      "text/plain": [
       "array([[1.26782464, 1.05059507, 1.35240051, 1.13455545],\n",
       "       [2.22790493, 1.84235246, 2.36172036, 1.94668503],\n",
       "       [1.9108265 , 1.58868634, 2.043417  , 1.70244209],\n",
       "       [2.00283274, 1.6628199 , 2.12487558, 1.71850219]])"
      ]
     },
     "execution_count": 34,
     "metadata": {},
     "output_type": "execute_result"
    }
   ],
   "source": [
    "scaled_similarity_scores = Q.dot(K)/dim\n",
    "scaled_similarity_scores"
   ]
  },
  {
   "cell_type": "markdown",
   "id": "20987803",
   "metadata": {},
   "source": [
    "### Por que escalar os valores do produto escalar?"
   ]
  },
  {
   "cell_type": "code",
   "execution_count": 35,
   "id": "fac108b2",
   "metadata": {},
   "outputs": [
    {
     "data": {
      "text/plain": [
       "(np.float64(0.09385167529024863),\n",
       " np.float64(0.06090284043555731),\n",
       " np.float64(0.8970449776197686))"
      ]
     },
     "execution_count": 35,
     "metadata": {},
     "output_type": "execute_result"
    }
   ],
   "source": [
    "Q.var(), K.var(), similarity_scores.var()"
   ]
  },
  {
   "cell_type": "code",
   "execution_count": 36,
   "id": "975063e4",
   "metadata": {},
   "outputs": [
    {
     "data": {
      "text/plain": [
       "(np.float64(0.09385167529024863),\n",
       " np.float64(0.06090284043555731),\n",
       " np.float64(0.14133630407607445))"
      ]
     },
     "execution_count": 36,
     "metadata": {},
     "output_type": "execute_result"
    }
   ],
   "source": [
    "# Similaridade com variância em escala semelhante a Q e K\n",
    "Q.var(), K.var(), scaled_similarity_scores.var()"
   ]
  },
  {
   "cell_type": "markdown",
   "id": "478c0849",
   "metadata": {},
   "source": [
    "## Masked (Causal) Attention\n"
   ]
  },
  {
   "cell_type": "code",
   "execution_count": 37,
   "id": "99f67029",
   "metadata": {},
   "outputs": [
    {
     "data": {
      "text/plain": [
       "array([[  0., -inf, -inf, -inf],\n",
       "       [  0.,   0., -inf, -inf],\n",
       "       [  0.,   0.,   0., -inf],\n",
       "       [  0.,   0.,   0.,   0.]])"
      ]
     },
     "execution_count": 37,
     "metadata": {},
     "output_type": "execute_result"
    }
   ],
   "source": [
    "mask = np.tril(np.ones(scaled_similarity_scores.shape))\n",
    "mask[mask == 0] = -np.inf\n",
    "mask[mask == 1] = 0\n",
    "mask"
   ]
  },
  {
   "cell_type": "code",
   "execution_count": 38,
   "id": "6a62bdd7",
   "metadata": {},
   "outputs": [
    {
     "data": {
      "text/plain": [
       "array([[1.26782464,       -inf,       -inf,       -inf],\n",
       "       [2.22790493, 1.84235246,       -inf,       -inf],\n",
       "       [1.9108265 , 1.58868634, 2.043417  ,       -inf],\n",
       "       [2.00283274, 1.6628199 , 2.12487558, 1.71850219]])"
      ]
     },
     "execution_count": 38,
     "metadata": {},
     "output_type": "execute_result"
    }
   ],
   "source": [
    "masked_scores = scaled_similarity_scores + mask\n",
    "masked_scores"
   ]
  },
  {
   "cell_type": "markdown",
   "id": "0203cd90",
   "metadata": {},
   "source": [
    "## Pesos de Atenção: Probabilidades com Softmax\n",
    "\n",
    "- Converte os scores em probabilidades (pesos de atenção) com $\\text{attention} = \\text{softmax}(\\text{score})$.  \n",
    "- Cada linha da matriz de pesos soma‑se a 1, interpretando‑se como a distribuição de \"atenção\" que o token dá aos demais tokens."
   ]
  },
  {
   "cell_type": "code",
   "execution_count": 39,
   "id": "0161faff",
   "metadata": {},
   "outputs": [
    {
     "data": {
      "text/plain": [
       "array([[0.13158609, 0.        , 0.        , 0.        ],\n",
       "       [0.34369052, 0.38290533, 0.        , 0.        ],\n",
       "       [0.25030074, 0.29711571, 0.47964661, 0.        ],\n",
       "       [0.27442264, 0.31997895, 0.52035339, 1.        ]])"
      ]
     },
     "execution_count": 39,
     "metadata": {},
     "output_type": "execute_result"
    }
   ],
   "source": [
    "attention_weights = softmax(masked_scores)\n",
    "attention_weights"
   ]
  },
  {
   "cell_type": "code",
   "execution_count": 40,
   "id": "20a395bf",
   "metadata": {},
   "outputs": [
    {
     "data": {
      "text/plain": [
       "array([1., 1., 1., 1.])"
      ]
     },
     "execution_count": 40,
     "metadata": {},
     "output_type": "execute_result"
    }
   ],
   "source": [
    "attention_weights.sum(axis=0)"
   ]
  },
  {
   "cell_type": "markdown",
   "id": "a5809f1e",
   "metadata": {},
   "source": [
    "## Self-Attention: Combinação com Values\n",
    "\n",
    "| Representação Gráfica | Descrição |Fórmulação|\n",
    "|:----------------------|:----------|:---------|\n",
    "| <img src=\"https://machinelearningmastery.com/wp-content/uploads/2021/09/tour_3.png\" height=\"300px\"/>| A saída final para cada posição é uma <br> média ponderada dos vetores `V`, <br> usando os pesos calculados.|$\\text{Attention}(Q, K, V) = \\operatorname{Softmax}\\!\\left(\\frac{Q\\,K^{\\top}}{\\sqrt{d_k}}\\right)\\, V$|"
   ]
  },
  {
   "cell_type": "code",
   "execution_count": 41,
   "id": "8190baaa",
   "metadata": {},
   "outputs": [
    {
     "data": {
      "text/plain": [
       "array([[0.10669112, 0.13339263, 0.16129116, 0.09791204],\n",
       "       [0.39048592, 0.65895449, 0.60351176, 0.60426792],\n",
       "       [0.62028548, 0.84277124, 0.98732989, 0.73530084],\n",
       "       [1.04942201, 1.52098066, 1.79364527, 1.56162686]])"
      ]
     },
     "execution_count": 41,
     "metadata": {},
     "output_type": "execute_result"
    }
   ],
   "source": [
    "self_attention_output = attention_weights.dot(V.T)\n",
    "self_attention_output"
   ]
  },
  {
   "cell_type": "code",
   "execution_count": 42,
   "id": "cb0ecd4a",
   "metadata": {},
   "outputs": [
    {
     "data": {
      "image/png": "[encoded data removed]",
      "text/plain": [
       "<Figure size 400x400 with 2 Axes>"
      ]
     },
     "metadata": {},
     "output_type": "display_data"
    }
   ],
   "source": [
    "plt.figure(figsize=(4, 4))\n",
    "sns.heatmap(\n",
    "    attention_weights, \n",
    "    xticklabels=words, \n",
    "    yticklabels=words, \n",
    "    square=True, \n",
    "    linewidth=1,\n",
    "    cmap=\"binary\",\n",
    "    )\n",
    "plt.title(\"Attention Heatmap\")\n",
    "plt.show()"
   ]
  },
  {
   "cell_type": "markdown",
   "id": "33889ef0",
   "metadata": {},
   "source": [
    "## Encapsulando Self-Attention em uma função completa"
   ]
  },
  {
   "cell_type": "code",
   "execution_count": 43,
   "id": "5e6a1d7b",
   "metadata": {},
   "outputs": [],
   "source": [
    "def self_attention(embeddings):\n",
    "    \"\"\"\n",
    "    Aplica o mecanismo de *self‑attention* a um conjunto de embeddings.\n",
    "\n",
    "    Parameters\n",
    "    ----------\n",
    "    embeddings : numpy.ndarray\n",
    "        Matriz de forma (n_tokens, d_model) contendo os vetores de entrada. \n",
    "        Cada linha corresponde ao embedding de um token da sequência.\n",
    "\n",
    "    Returns\n",
    "    -------\n",
    "    output : numpy.ndarray\n",
    "        Representação contextualizada de cada token. A matriz tem a mesma\n",
    "        dimensionalidade que `embeddings` e reflete a soma ponderada dos\n",
    "        vetores de valor (V) segundo os pesos de atenção calculados.\n",
    "        \n",
    "    attention_weights : numpy.ndarray\n",
    "        Matriz de pesos de atenção (n_tokens × n_tokens). Cada linha representa \n",
    "        uma distribuição de probabilidade sobre os tokens da sequência para o token\n",
    "        correspondente.\n",
    "\n",
    "    Notes\n",
    "    -----\n",
    "    1. **Geração das matrizes de projeção**  \n",
    "       As matrizes `W_Q`, `W_K` e `W_V` são inicializadas aleatoriamente com a mesma\n",
    "       forma que `embeddings`. Em uma implementação real, estas seriam parâmetros\n",
    "       aprendidos.\n",
    "\n",
    "    2. **Projeções**  \n",
    "       - `Q = embeddings @ W_Q.T`  \n",
    "       - `K = embeddings @ W_K.T`  \n",
    "       - `V = embeddings @ W_V.T`  \n",
    "\n",
    "    3. **Escalonamento do dot‑product**  \n",
    "       O escalar `dim` é calculado como a raiz quadrada da dimensão de Q/K\n",
    "       (i.e., `sqrt(d_model)`), evitando que os produtos internos cresçam demais\n",
    "       e mantenham a softmax numericamente estável.\n",
    "\n",
    "    4. **Máscara causal**  \n",
    "       A matriz triangular inferior (`np.tril`) impede que um token “veja”\n",
    "       tokens futuros, garantindo a causalidade em modelos autoregressivos.\n",
    "       Valores fora da diagonal são definidos como `-inf` para anular sua\n",
    "       contribuição após a softmax.\n",
    "\n",
    "    5. **Softmax**  \n",
    "       A função `softmax` (não mostrada aqui) transforma os scores mascarados\n",
    "       em probabilidades que somam 1 por linha, formando os pesos de atenção.\n",
    "\n",
    "    6. **Soma ponderada**  \n",
    "       O produto final `output = attention_weights @ V.T` combina os vetores\n",
    "       de valor segundo a distribuição aprendida, gerando as representações\n",
    "       contextuais.\n",
    "\n",
    "    7. **Limitações**  \n",
    "       - As matrizes de pesos são aleatórias e não treinadas; portanto o\n",
    "         resultado carece de significado prático sem treinamento supervisionado.\n",
    "       - O código assume que todas as operações se realizam em CPU; para GPU,\n",
    "         seria necessário adaptar a implementação usando `torch`.\n",
    "    \"\"\"\n",
    "    # Cria as matrizes de pesos para os embeddings\n",
    "    W_Q = np.random.random(embeddings.shape)\n",
    "    W_K = np.random.random(embeddings.shape)\n",
    "    W_V = np.random.random(embeddings.shape)\n",
    "\n",
    "    # Cria Q, K e V\n",
    "    Q = embeddings.dot(W_Q.T)\n",
    "    K = embeddings.dot(W_K.T)\n",
    "    V = embeddings.dot(W_V.T)\n",
    "\n",
    "    # Calcula a dimensão para escalar o dot product\n",
    "    dim = np.array(Q.shape[0]**0.5)\n",
    "\n",
    "    # Calcula o produto escalar dos embeddings\n",
    "    scores = Q.dot(K)/dim\n",
    "    \n",
    "    # Mascara os scores para evitar que tokens anteriores\n",
    "    #  tenham informação de tokens futuros\n",
    "    mask = np.tril(np.ones(scaled_similarity_scores.shape))\n",
    "    mask[mask == 0] = -np.inf\n",
    "    mask[mask == 1] = 0\n",
    "\n",
    "    masked_scores = scaled_similarity_scores + mask\n",
    "\n",
    "\n",
    "    # Aplica a softmax para obter os pesos de atenção\n",
    "    attention_weights = softmax(masked_scores)\n",
    "    \n",
    "    # Calcula a soma ponderada dos embeddings\n",
    "    output = np.dot(attention_weights, V.T)\n",
    "    \n",
    "    return output, attention_weights"
   ]
  },
  {
   "cell_type": "code",
   "execution_count": 44,
   "id": "4906b63c",
   "metadata": {},
   "outputs": [],
   "source": [
    "output, attention_weights = self_attention(embeddings)"
   ]
  },
  {
   "cell_type": "code",
   "execution_count": 45,
   "id": "0b374b12",
   "metadata": {},
   "outputs": [
    {
     "data": {
      "text/plain": [
       "array([[0.03385798, 0.06795636, 0.05736033, 0.07451556],\n",
       "       [0.34351927, 0.62852834, 0.56964175, 0.65636921],\n",
       "       [0.44434504, 0.65118017, 0.75210792, 0.65922295],\n",
       "       [1.44358935, 2.07266063, 2.31967164, 1.89220321]])"
      ]
     },
     "execution_count": 45,
     "metadata": {},
     "output_type": "execute_result"
    }
   ],
   "source": [
    "output"
   ]
  },
  {
   "cell_type": "code",
   "execution_count": 46,
   "id": "66845c3f",
   "metadata": {},
   "outputs": [
    {
     "data": {
      "text/plain": [
       "array([[0.13158609, 0.        , 0.        , 0.        ],\n",
       "       [0.34369052, 0.38290533, 0.        , 0.        ],\n",
       "       [0.25030074, 0.29711571, 0.47964661, 0.        ],\n",
       "       [0.27442264, 0.31997895, 0.52035339, 1.        ]])"
      ]
     },
     "execution_count": 46,
     "metadata": {},
     "output_type": "execute_result"
    }
   ],
   "source": [
    "attention_weights"
   ]
  },
  {
   "cell_type": "markdown",
   "id": "2798a51b",
   "metadata": {},
   "source": [
    "## Multi-Head Attention\n",
    "\n",
    "| Representação Gráfica | Descrição |\n",
    "|:--|:--:|\n",
    "|  Cada cabeça de atenção pode focar em <br> padrões diferentes (ex.: sintaxe, semântica, dependências a longo prazo).| <img src=\"https://www.jeremyjordan.me/content/images/2023/05/multi-head-attention.png\" height=\"200px\" /> |"
   ]
  },
  {
   "cell_type": "code",
   "execution_count": 47,
   "id": "fcf68d18",
   "metadata": {},
   "outputs": [
    {
     "name": "stdout",
     "output_type": "stream",
     "text": [
      "Saída da MHA:\n",
      " [[0.0994691  0.12105612 0.14553897 0.07938693]\n",
      " [0.5373246  0.60720947 0.87887178 0.51157984]\n",
      " [0.63374816 0.92723863 1.03750033 0.88338746]\n",
      " [1.59325631 2.0461638  2.57622858 1.79480785]\n",
      " [0.07135296 0.06906638 0.1300595  0.07347102]\n",
      " [0.37417981 0.41672593 0.62458525 0.36774487]\n",
      " [0.62391651 0.96509893 0.9720056  0.8616684 ]\n",
      " [1.52339959 1.95082781 2.45765866 1.69994613]]\n",
      "Shape: (8, 4)\n"
     ]
    }
   ],
   "source": [
    "def multi_head_attention(embeddings, num_heads=2):\n",
    "    \"\"\"\n",
    "    Aplica atenção multi‑cabeça (Multi‑Head Attention) em um conjunto de embeddings.\n",
    "\n",
    "    A função divide o cálculo da atenção em `num_heads` sub‑modelos independentes,\n",
    "    cada um produzindo uma representação distinta dos *queries*, *keys* e\n",
    "    *values*.  As saídas individuais são concatenadas ao longo do eixo das\n",
    "    características, gerando assim a projeção linear típica de uma camada\n",
    "    multi‑cabeça.\n",
    "\n",
    "    Parameters\n",
    "    ----------\n",
    "    embeddings : numpy.ndarray\n",
    "        Tensor de entrada com forma ``(seq_len, d_model)`` onde\n",
    "        *seq_len* é o tamanho da sequência (ex.: número de tokens)\n",
    "        e *d_model* representa a dimensionalidade dos embeddings.\n",
    "        O array deve ser do tipo `float` ou equivalente.\n",
    "    num_heads : int, optional\n",
    "        Número de cabeças de atenção.  Cada cabeça executa uma chamada a\n",
    "        `self_attention(embeddings)` (uma função que deve retornar\n",
    "        `(output, attention_weights)`).  \n",
    "        O valor padrão é ``2``.\n",
    "\n",
    "    Returns\n",
    "    -------\n",
    "    numpy.ndarray\n",
    "        Tensor resultante da concatenação das saídas de todas as cabeças.\n",
    "        A forma do retorno será ``(seq_len, num_heads * d_head)``,\n",
    "        onde `d_head = d_model // num_heads`.  Se `num_heads` não for divisor\n",
    "        exato de `d_model`, o último segmento pode ter dimensão menor.\n",
    "    \"\"\"\n",
    "    head_outputs = []\n",
    "    \n",
    "    for _ in range(num_heads):\n",
    "        output, _ = self_attention(embeddings)\n",
    "        head_outputs.append(output)\n",
    "    \n",
    "    # Concatena as saídas de todas as cabeças\n",
    "    return np.concatenate(head_outputs)\n",
    "\n",
    "# Calcula a atenção multi‑cabeça\n",
    "multi_head_output = multi_head_attention(embeddings)\n",
    "print(\"Saída da MHA:\\n\", multi_head_output)\n",
    "print(\"Shape:\", multi_head_output.shape)"
   ]
  },
  {
   "cell_type": "markdown",
   "id": "997d73d2",
   "metadata": {},
   "source": [
    "## Camada linear de saída\n",
    "\n",
    "A camada linear que segue a concatenação das saídas da MHA serve fundamentalmente para **projetar** o vetor de dimensões ampliadas (produto do número de cabeças por dimensão de cada cabeça) de volta à dimensionalidade original do modelo (*d_model*). \n",
    "\n",
    "Essa projeção permite que as informações capturadas independentemente em cada cabeça sejam combinadas num único espaço sem aumentar a carga computacional nas camadas subsequentes. \n",
    "\n",
    "Além disso, ao aplicar pesos aprendidos e um viés, essa camada introduz capacidade de *mixer* entre os cabeças, facilitando a transmissão de dependências contextuais complexas, enquanto mantém o tamanho do modelo consistente para compatibilidade com as próximas etapas (normalização, feed‑forward, etc.)."
   ]
  },
  {
   "cell_type": "code",
   "execution_count": 48,
   "id": "dc72adb8",
   "metadata": {},
   "outputs": [
    {
     "name": "stdout",
     "output_type": "stream",
     "text": [
      "Saída Final:\n",
      " [[ 3.17695674  2.98664348  2.5831752   4.4084341 ]\n",
      " [ 8.88671905  7.90873057  7.94046735 11.94089099]\n",
      " [11.44750925 10.12335968 10.26517694 15.20395404]\n",
      " [23.87670969 20.82116613 21.93764431 31.59915826]\n",
      " [ 2.8737637   2.73318301  2.29232096  4.00703874]\n",
      " [ 6.81660573  6.12905012  5.99316222  9.20739846]\n",
      " [11.32358161 10.00487874 10.15262762 15.0336155 ]\n",
      " [22.84596507 19.93152506 20.97784673 30.24971987]]\n",
      "Shape: (8, 4)\n"
     ]
    }
   ],
   "source": [
    "def feedforward_network(x):\n",
    "    \"\"\"\n",
    "    Aplica uma rede neural feed‑forward de duas camadas em um tensor de entrada.\n",
    "\n",
    "    A função implementa a arquitetura clássica “two‑layer perceptron” (MLP) com\n",
    "    ativação ReLU na camada oculta. Os pesos e vieses são gerados aleatoriamente\n",
    "    a cada chamada, o que facilita demonstrações didáticas mas não é adequado\n",
    "    para treinamento em produção.\n",
    "\n",
    "    Parameters\n",
    "    ----------\n",
    "    x : numpy.ndarray\n",
    "        Tensor de entrada de forma ``(batch_size, d_in)`` onde *d_in* corresponde à\n",
    "        dimensionalidade da representação de cada amostra. O array deve ser do tipo\n",
    "        `float` ou equivalente.\n",
    "\n",
    "    Returns\n",
    "    -------\n",
    "    numpy.ndarray\n",
    "        Saída da rede com forma ``(batch_size, d_out)``, onde  \n",
    "        ``d_out = d_in`` (o número de neurônios na camada de saída é igual ao\n",
    "        dimensionalidade de entrada). Cada elemento corresponde à projeção linear\n",
    "        do vetor de características após a aplicação da função ReLU.\n",
    "\n",
    "    Notes\n",
    "    -----\n",
    "    - Os pesos e vieses são inicializados com valores aleatórios em ``[0, 1)``\n",
    "      usando `np.random.rand`. Em cenários reais esses parâmetros seriam\n",
    "      aprendidos via back‑propagation.\n",
    "    - A camada oculta possui ``2 * d_in`` neurônios; o fator 2 pode ser ajustado\n",
    "      de acordo com a complexidade desejada.\n",
    "    \"\"\"\n",
    "    # Rede feed‑forward simples com uma camada oculta\n",
    "    # Pesos da camada oculta\n",
    "    W1 = np.random.rand(x.shape[1], x.shape[1] * 2)\n",
    "    # Viéses da camada oculta\n",
    "    b1 = np.random.rand(x.shape[1] * 2)              \n",
    "    # Pesos da camada de saída\n",
    "    W2 = np.random.rand(x.shape[1] * 2, x.shape[1])  \n",
    "    # Viéses da camada de saída\n",
    "    b2 = np.random.rand(x.shape[1])                  \n",
    "    \n",
    "    # Ativação ReLU\n",
    "    hidden_layer = np.maximum(0, np.dot(x, W1) + b1)  \n",
    "    output_layer = np.dot(hidden_layer, W2) + b2\n",
    "    \n",
    "    return output_layer\n",
    "\n",
    "# Passa as features de MHA pela rede (FC)\n",
    "final_output = feedforward_network(multi_head_output)\n",
    "print(\"Saída Final:\\n\", final_output)\n",
    "print(\"Shape:\", final_output.shape)"
   ]
  },
  {
   "cell_type": "markdown",
   "id": "766485b9",
   "metadata": {},
   "source": [
    "# Próximos Passos\n",
    "\n",
    "- Modifique o código acima para adicionar um tokenizer conforme visto nas aulas anteriores\n",
    "    - Tratamento de pontuação\n",
    "    - Tratamento de palavras desconhecidas\n",
    "    - Criação de Token IDs\n",
    "- Implemente via numpy positional enconding para os tokens.\n",
    "    - Use como base a implementação em [Machine Learning Mastery](https://machinelearningmastery.com/a-gentle-introduction-to-positional-encoding-in-transformer-models-part-1/).\n",
    "    - $P(k, 2i) = \\sin\\Big(\\frac{k}{n^{2i/d}}\\Big)$\n",
    "    - $P(k, 2i+1) = \\cos\\Big(\\frac{k}{n^{2i/d}}\\Big)$\n",
    "- Modifique o código acima para utilizar modelos de embeddings mais robustos (Word2Vec, BPE)."
   ]
  },
  {
   "cell_type": "markdown",
   "id": "e1e0c8c8",
   "metadata": {},
   "source": []
  }
 ],
 "metadata": {
  "kernelspec": {
   "display_name": "code-JkoWe6Ql",
   "language": "python",
   "name": "python3"
  },
  "language_info": {
   "codemirror_mode": {
    "name": "ipython",
    "version": 3
   },
   "file_extension": ".py",
   "mimetype": "text/x-python",
   "name": "python",
   "nbconvert_exporter": "python",
   "pygments_lexer": "ipython3",
   "version": "3.11.7"
  }
 },
 "nbformat": 4,
 "nbformat_minor": 5
}
