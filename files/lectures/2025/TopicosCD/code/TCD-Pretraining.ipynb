{
 "cells": [
  {
   "cell_type": "markdown",
   "id": "e60aa925",
   "metadata": {
    "editable": true,
    "slideshow": {
     "slide_type": "slide"
    },
    "tags": []
   },
   "source": [
    "# LLM Pretraining\n",
    "\n",
    "## [Tópicos em Ciência de Dados](https://denmartins.github.io/teaching/2025-topicos-cd)\n",
    "\n",
    "### [Prof. Dr. Denis Mayr Lima Martins](https://denmartins.github.io/)\n",
    "\n",
    "### [Pontifícia Universidade Católica de Campinas](https://www.puc-campinas.edu.br/)\n",
    "\n",
    "<img src=\"https://www.puc-campinas.edu.br/wp-content/uploads/2022/06/logo-puc.png\" width=\"100px\"/>\n"
   ]
  },
  {
   "cell_type": "markdown",
   "id": "d8405f1b",
   "metadata": {
    "editable": true,
    "slideshow": {
     "slide_type": "slide"
    },
    "tags": []
   },
   "source": [
    "# Objetivos de Aprendizagem\n",
    "\n",
    "- Compreender o conceito de Foundation Models e suas aplicações.\n",
    "- Entender a importância de pré-treinamento na criação de Large Language Models (LLMs)\n",
    "- Compreender os princípios e práticas de pré-treinamento de LLMs.\n",
    "- Implementar pré-treinamento de um modelo GPT-2."
   ]
  },
  {
   "cell_type": "markdown",
   "id": "b64e84d4-8bd3-4620-8a55-f86b58c4e567",
   "metadata": {
    "editable": true,
    "slideshow": {
     "slide_type": ""
    },
    "tags": []
   },
   "source": [
    "<center>\n",
    "<table style=\"width:100%\">\n",
    "<tr>\n",
    "<td style=\"vertical-align:middle; text-align:left;\">\n",
    "Baseado no Livro <a href=\"http://mng.bz/orYv\">Build a Large Language Model From Scratch</a> de <a href=\"https://sebastianraschka.com\">Sebastian Raschka</a><br>\n",
    "<br>Code repository: <a href=\"https://github.com/rasbt/LLMs-from-scratch\">https://github.com/rasbt/LLMs-from-scratch</a>\n",
    "</td>\n",
    "<td style=\"vertical-align:middle; text-align:left;\">\n",
    "<a href=\"http://mng.bz/orYv\"><img src=\"https://sebastianraschka.com/images/LLMs-from-scratch-images/cover-small.webp\" width=\"200px\"></a>\n",
    "</td>\n",
    "</tr>\n",
    "</table>\n",
    "</center>"
   ]
  },
  {
   "cell_type": "markdown",
   "id": "6cf66a24",
   "metadata": {
    "editable": true,
    "slideshow": {
     "slide_type": "slide"
    },
    "tags": []
   },
   "source": [
    "<center>\n",
    "\n",
    "## Qual o **maior** problema em depender **apenas** de aprendizado **supervisionado** tradicional?\n",
    "\n",
    "</center>"
   ]
  },
  {
   "cell_type": "markdown",
   "id": "495f946e",
   "metadata": {
    "editable": true,
    "slideshow": {
     "slide_type": "slide"
    },
    "tags": []
   },
   "source": [
    "\n",
    "\n",
    "\n",
    "\n",
    "<div style='align: left; text-align:center;'>\n",
    "    <img src='https://macgence.com/wp-content/uploads/2024/04/Healthcare-Datasets-Solutions-1024x683.webp' alt='Healthcare data' style=\"width:500px;\"/>\n",
    "    <span style='display:block;'>Dados anotados (labeled data) na área da Saúde são caros e difíceis de obter em larga escala. Fonte: <a href=\"https://macgence.com/blog/healthcare-dataset/\" target=\"_blank\">Macgence</a>.</span>\n",
    "    <br/>\n",
    "</div>"
   ]
  },
  {
   "cell_type": "markdown",
   "id": "17a0f1a1",
   "metadata": {
    "editable": true,
    "slideshow": {
     "slide_type": "slide"
    },
    "tags": []
   },
   "source": [
    "## Treinamento Supervisionado Tradicional\n",
    "\n",
    "*   **Escassez de Dados Rotulados:** Obter dados rotulados é caro e demorado.\n",
    "*   **Generalização Limitada:** Modelos treinados em datasets específicos podem ter dificuldades para generalizar para novos cenários.\n",
    "*   **Necessidade de Engenharia de Features:** Requer conhecimento especializado para selecionar e criar features relevantes.\n"
   ]
  },
  {
   "cell_type": "markdown",
   "id": "b97c47f9",
   "metadata": {
    "editable": true,
    "slideshow": {
     "slide_type": "slide"
    },
    "tags": []
   },
   "source": [
    "## Foundation Models\n",
    "\n",
    "*   **Conceito:** Modelos treinados em grandes volumes de dados *não rotulados* que podem ser adaptados para uma variedade de tarefas downstream.\n",
    "*   **Características:**\n",
    "    *   **Escalabilidade:** Treinados em datasets massivos.\n",
    "    *   **Representação**: Aprendem a representar dados capturando nuances intrínsecas que ajudam a generalizar para outras tarefas.\n",
    "    *   **Adaptabilidade:** Podem ser finamente ajustados (fine-tuned) para tarefas específicas.\n",
    "    *   **Emergência de Capacidades:** Demonstram habilidades que não foram explicitamente programadas.\n",
    "*   **Analogia:** Aprender a ler e escrever antes de se especializar em um gênero literário específico."
   ]
  },
  {
   "cell_type": "markdown",
   "id": "1c20ebc4",
   "metadata": {
    "editable": true,
    "slideshow": {
     "slide_type": "slide"
    },
    "tags": []
   },
   "source": [
    "## Foundation Models\n",
    "\n",
    "\n",
    "<div style='align: left; text-align:center;'>\n",
    "    <img src='https://blogs.nvidia.com/wp-content/uploads/2023/03/Transformer-apps.jpg' alt='Foundation Model' style=\"width:500px;\"/>\n",
    "    <span style='display:block;'>Foundation Model. Fonte: <a href=\"https://arxiv.org/pdf/2108.07258\" target=\"_blank\">On the Opportunities and Risks of Foundation Models</a>.</span>\n",
    "    <br/>\n",
    "</div>\n"
   ]
  },
  {
   "cell_type": "markdown",
   "id": "c8456137",
   "metadata": {
    "editable": true,
    "slideshow": {
     "slide_type": "slide"
    },
    "tags": []
   },
   "source": [
    "## Foundation Models na Medicina\n",
    "\n",
    "\n",
    "\n",
    "<div style='align: left; text-align:center;'>\n",
    "    <img src='https://arxiv.org/html/2406.10729v3/x2.png' alt='Learning architecture, model size, and training data used by representative foundation models' style=\"width:500px;\"/>\n",
    "    <span style='display:block;'>Learning architecture, model size, and training data used by representative foundation models. Fonte: <a href=\"https://arxiv.org/html/2406.10729v3\" target=\"_blank\">A Comprehensive Survey of Foundation Models in Medicine</a>.</span>\n",
    "    <br/>\n",
    "</div>"
   ]
  },
  {
   "cell_type": "markdown",
   "id": "845b4942-552e-4a64-91e0-e85eaf18e03d",
   "metadata": {
    "editable": true,
    "slideshow": {
     "slide_type": "slide"
    },
    "tags": []
   },
   "source": [
    "<center>\n",
    "\n",
    "## O quão fácil é utilizar um modelo pré-treinado?\n",
    "\n",
    "</center>"
   ]
  },
  {
   "cell_type": "markdown",
   "id": "6f4b6125-22e4-4439-ad45-975ea7850196",
   "metadata": {
    "editable": true,
    "slideshow": {
     "slide_type": "slide"
    },
    "tags": []
   },
   "source": [
    "## O quão fácil é utilizar um modelo pré-treinado?"
   ]
  },
  {
   "cell_type": "code",
   "execution_count": null,
   "id": "bbdadf70-e21e-4a6e-9ccc-68fcf2884ee5",
   "metadata": {
    "editable": true,
    "slideshow": {
     "slide_type": ""
    },
    "tags": []
   },
   "outputs": [],
   "source": [
    "from transformers import pipeline, set_seed\n",
    "generator = pipeline('text-generation', model='gpt2', truncation=True)\n",
    "set_seed(42)\n",
    "generator(\"Hello, I'm a language model,\", max_length=5, num_return_sequences=1)"
   ]
  },
  {
   "cell_type": "markdown",
   "id": "343002bc",
   "metadata": {
    "editable": true,
    "slideshow": {
     "slide_type": "slide"
    },
    "tags": []
   },
   "source": [
    "## Foundation Models: Objetivos\n",
    "\n",
    "*   **Masked Language Modeling (MLM):** (Ex: BERT)\n",
    "    *   Ocultar aleatoriamente algumas palavras no texto e treinar o modelo para prever as palavras ocultas.\n",
    "    * **Loss:** Cross‑Entropy sobre posições mascaradas.\n",
    "*   **Causal Language Modeling (CLM):** (Ex: GPT)\n",
    "    *   Treinar o modelo para prever a próxima palavra em uma sequência.\n",
    "    *   **Loss:** Cross‑Entropy sobre todas as posições, com máscara causal.\n"
   ]
  },
  {
   "cell_type": "markdown",
   "id": "34496552",
   "metadata": {
    "editable": true,
    "slideshow": {
     "slide_type": "slide"
    },
    "tags": []
   },
   "source": [
    "## Foundation Models: Tipos\n",
    "\n",
    "* **Embedding Extractiors**: Transformam dados de entrada em uma representação mais apropriada que preserva as características mais relevantes.\n",
    "* **Zero-Shot Models**: Executam a tarefa diretamente sobre dados não vistos durante o (pré-)treinamento. Operam sob o princípio de que, mesmo que um modelo não tenha visto um objeto específico durante o treinamento, ele deve conseguir usar seu conhecimento sobre outros objetos semelhantes para identificar o novo.\n",
    "- Exemplos: [Meta Segment Anything Model (SAM)](https://segment-anything.com/), [OpenAI CLIP](https://openai.com/index/clip/), [Meta DINOv2](https://dinov2.metademolab.com/)."
   ]
  },
  {
   "cell_type": "markdown",
   "id": "726dc5da-9c50-4897-a6e8-f6baf5eead32",
   "metadata": {
    "editable": true,
    "slideshow": {
     "slide_type": "slide"
    },
    "tags": []
   },
   "source": [
    "## Foundation Models e Especialistas em Dados (cont.)\n",
    "\n",
    "<div style='align: left; text-align:center;'>\n",
    "    <img src='https://figures.semanticscholar.org/58aacb967cc7fc25cfc9d51b7ad3e57ac00d119b/1-Figure1-1.png' style=\"width:500px;\"/>\n",
    "    <span style='display:block;'>Transformando dados com Foundation Models. Fonte: <a href=\"https://arxiv.org/abs/2205.09911\" target=\"_blank\">Can Foundation Models Wrangle Your Data?</a></span>\n",
    "    <br/>\n",
    "</div>"
   ]
  },
  {
   "cell_type": "markdown",
   "id": "b49410b7-b9c1-40d4-935d-36e85d52f962",
   "metadata": {
    "editable": true,
    "slideshow": {
     "slide_type": "slide"
    },
    "tags": []
   },
   "source": [
    "## Foundation Models e Especialistas em Dados\n",
    "\n",
    "\n",
    "<div style='align: left; text-align:center;'>\n",
    "    <img src='https://figures.semanticscholar.org/0cb4e7546d955a1d635da154f0d82ab05cddcf14/1-Figure1-1.png' style=\"width:500px;\"/>\n",
    "    <span style='display:block;'>Integração/Harmonização de Dados via Agentes de LLM. Fonte: <a href=\"https://arxiv.org/abs/2502.07132\" target=\"_blank\">Interactive Data Harmonization with LLM Agents: Opportunities and Challenges</a>.</span>\n",
    "    <br/>\n",
    "</div>"
   ]
  },
  {
   "cell_type": "markdown",
   "id": "44c3ede3",
   "metadata": {
    "editable": true,
    "slideshow": {
     "slide_type": "slide"
    },
    "tags": []
   },
   "source": [
    "## Datasets de Pré-treinamento\n",
    "\n",
    "*   **Common Crawl:** Um vasto repositório de páginas da web.\n",
    "*   **Wikipedia:** Uma enciclopédia colaborativa online.\n",
    "*   **BooksCorpus:** Um conjunto de livros digitais.\n",
    "*   **The Pile:** Uma coleção diversificada de datasets textuais.\n",
    "*   Project Gutenberg, arXiv, PubMed  \n",
    "*   Código (GitHub, GitLab)"
   ]
  },
  {
   "cell_type": "markdown",
   "id": "3ed5dbbf",
   "metadata": {
    "editable": true,
    "slideshow": {
     "slide_type": "slide"
    },
    "tags": []
   },
   "source": [
    "## Limpeza de dados\n",
    "  \n",
    "- Remover duplicatas, HTML tags, scripts.  \n",
    "- Filtrar linguagem e conteúdo ofensivo.  \n",
    "- Normalizar pontuação, acentos.\n",
    "- Balanceamento de domínio (ex.: código > texto natural).  \n",
    "- Equalização de gêneros, regiões geográficas."
   ]
  },
  {
   "cell_type": "markdown",
   "id": "6ea28d65",
   "metadata": {
    "editable": true,
    "slideshow": {
     "slide_type": "skip"
    },
    "tags": []
   },
   "source": [
    "## Avaliação de Pré-Treinamento\n",
    "\n",
    "| Benchmark | Métrica principal | Observação |\n",
    "|-----------|-------------------|------------|\n",
    "| GLUE      | Accuracy (avg)    | Tarefas de compreensão textual |\n",
    "| SuperGLUE | Weighted F1       | Tarefas mais difíceis |\n",
    "| LAMBADA   | Accuracy          | Previsão do último token em sentenças longas |\n",
    "| MMLU      | Accuracy          | 57 domínios acadêmicos |"
   ]
  },
  {
   "cell_type": "markdown",
   "id": "99c95d15",
   "metadata": {
    "editable": true,
    "slideshow": {
     "slide_type": "slide"
    },
    "tags": []
   },
   "source": [
    "## Desafios e Considerações Éticas\n",
    "\n",
    "*   **Viés nos Dados:** Os modelos podem herdar vieses/preconceitos presentes nos dados de treinamento.\n",
    "* **Desinformação:** Capacidade de gerar texto convincente pode ser mal‑uso. \n",
    "* **Privacidade:** Modelos podem memorizar trechos sensíveis.  \n",
    "*   **Custo Computacional:** O pré-treinamento e o fine-tuning de LLMs exigem recursos computacionais significativos.\n",
    "*   **Impacto Ambiental:** Consumo energético e emissões de CO₂ no treinamento. "
   ]
  },
  {
   "cell_type": "markdown",
   "id": "cd9eb7f0",
   "metadata": {
    "editable": true,
    "slideshow": {
     "slide_type": "slide"
    },
    "tags": []
   },
   "source": [
    "<div style='align: left; text-align:center;'>\n",
    "    <img src='https://specials-images.forbesimg.com/imageserve/5f3c7a3ef99cba8bd510dbc9/Training-an-AI-model-can-have-an-enormous-carbon-footprint-/960x0.png?fit=scale' alt='Impacto Ambiental da AI' style=\"width:500px;\"/>\n",
    "    <span style='display:block;'>Impacto Ambiental da AI. Fonte: <a href=\"https://www.forbes.com/sites/glenngow/2020/08/21/environmental-sustainability-and-ai/\" target=\"_blank\">Forbes</a>.</span>\n",
    "    <br/>\n",
    "</div>"
   ]
  },
  {
   "cell_type": "markdown",
   "id": "c0ca5a5d-e056-40de-817d-40e535356c15",
   "metadata": {
    "editable": true,
    "slideshow": {
     "slide_type": "slide"
    },
    "tags": []
   },
   "source": [
    "## Resumo\n",
    "\n",
    "* LLMs são Foundation Models específicos para geração de texto.  \n",
    "* Pré‑treinamento exige grande escala de parâmetros, dados e GPU.  \n",
    "* Ética não pode ser tratada como complemento; é parte integrante do design.\n",
    "* Impacto Ambiental: https://hbr.org/2024/07/the-uneven-distribution-of-ais-environmental-impacts\n",
    "* Leituras recomendadas:\n",
    "    - [A Dataset-Centric Survey of LLM-Agents for Data Science](https://openreview.net/pdf?id=W4hexmqgoN)\n",
    "    - [How Do Data Analysts Respond to AI Assistance? A Wizard-of-Oz Study](https://dl.acm.org/doi/pdf/10.1145/3613904.3641891)\n",
    "    - [The Uneven Distribution of AI’s Environmental Impacts](https://hbr.org/2024/07/the-uneven-distribution-of-ais-environmental-impacts)\n",
    "* Pergunta: Qual aspecto do pré‑treinamento você considera mais crítico para o desempenho de um LLM? Por que?"
   ]
  },
  {
   "cell_type": "markdown",
   "id": "82ae2109-fd95-4b44-9586-0276b807b053",
   "metadata": {
    "editable": true,
    "slideshow": {
     "slide_type": "slide"
    },
    "tags": []
   },
   "source": [
    "<div style='align: left; text-align:center;'>\n",
    "    <img src='https://figures.semanticscholar.org/2fe74a07051649cb5dc41da319fef547647e9171/9-Figure3-1.png' alt='Impacto Ambiental da AI' style=\"width:600px;\"/>\n",
    "    <span style='display:block;'>Analista de Dados e Agentes de LLM. Fonte: <a href=\"https://dl.acm.org/doi/pdf/10.1145/3613904.3641891\" target=\"_blank\">How Do Data Analysts Respond to AI Assistance? A Wizard-of-Oz Study</a>.</span>\n",
    "    <br/>\n",
    "</div>"
   ]
  },
  {
   "cell_type": "markdown",
   "id": "d474eaf4-b088-4b32-962a-f67fc560919c",
   "metadata": {
    "editable": true,
    "slideshow": {
     "slide_type": "slide"
    },
    "tags": []
   },
   "source": [
    "## GPT-2: Pré-treinamento"
   ]
  },
  {
   "cell_type": "code",
   "execution_count": 1,
   "id": "7f2f8142",
   "metadata": {
    "editable": true,
    "slideshow": {
     "slide_type": "skip"
    },
    "tags": []
   },
   "outputs": [],
   "source": [
    "import os\n",
    "os.environ[\"KMP_DUPLICATE_LIB_OK\"]=\"TRUE\""
   ]
  },
  {
   "cell_type": "code",
   "execution_count": 2,
   "id": "7331b1e7",
   "metadata": {
    "editable": true,
    "slideshow": {
     "slide_type": "skip"
    },
    "tags": []
   },
   "outputs": [
    {
     "name": "stdout",
     "output_type": "stream",
     "text": [
      "matplotlib version: 3.10.5\n",
      "numpy version: 2.3.2\n",
      "tiktoken version: 0.11.0\n",
      "torch version: 2.8.0\n"
     ]
    }
   ],
   "source": [
    "from importlib.metadata import version\n",
    "\n",
    "pkgs = [\"matplotlib\", \n",
    "        \"numpy\", \n",
    "        \"tiktoken\", \n",
    "        \"torch\",\n",
    "       ]\n",
    "for p in pkgs:\n",
    "    print(f\"{p} version: {version(p)}\")"
   ]
  },
  {
   "cell_type": "code",
   "execution_count": 3,
   "id": "765936a3",
   "metadata": {
    "editable": true,
    "slideshow": {
     "slide_type": ""
    },
    "tags": []
   },
   "outputs": [],
   "source": [
    "import torch\n",
    "# Importamos todo o códigdo\n",
    "# desenvolvido nas aulas anteriores\n",
    "from llmdefinitions import GPTModel\n",
    "\n",
    "GPT_CONFIG_124M = {\n",
    "    \"vocab_size\": 50257,   \n",
    "    \"context_length\": 256, \n",
    "    \"emb_dim\": 768,        \n",
    "    \"n_heads\": 12,         \n",
    "    \"n_layers\": 12,        \n",
    "    \"drop_rate\": 0.1,      \n",
    "    \"qkv_bias\": False      \n",
    "}\n",
    "\n",
    "torch.manual_seed(123)\n",
    "model = GPTModel(GPT_CONFIG_124M)\n",
    "model.eval();"
   ]
  },
  {
   "cell_type": "markdown",
   "id": "6e8dabe6-ff55-4479-9909-6bbfa0a8874f",
   "metadata": {
    "editable": true,
    "slideshow": {
     "slide_type": "slide"
    },
    "tags": []
   },
   "source": [
    "## Usando GPT para gerar texto\n",
    "\n",
    "![](https://camo.githubusercontent.com/fa3e770f1936dfcf126f3f5c20345dbfea56e76421943f7ad86fcad92c5137ec/68747470733a2f2f73656261737469616e72617363686b612e636f6d2f696d616765732f4c4c4d732d66726f6d2d736372617463682d696d616765732f636830355f636f6d707265737365642f6770742d70726f636573732e77656270)\n",
    "\n",
    "A geração de texto envolve o encoding de texto para Token Ids e o processamento pelo modelo GPT com saída em forma de logits. Estes últimos são convertidos de volta a token IDs que, por sua vez, sofrem decoding para a representação textual."
   ]
  },
  {
   "cell_type": "code",
   "execution_count": 4,
   "id": "fda5e567",
   "metadata": {
    "editable": true,
    "slideshow": {
     "slide_type": "slide"
    },
    "tags": []
   },
   "outputs": [
    {
     "name": "stdout",
     "output_type": "stream",
     "text": [
      "tensor([[6109, 3626, 6100,  345]])\n"
     ]
    }
   ],
   "source": [
    "import tiktoken\n",
    "from llmdefinitions import generate_text_simple\n",
    "\n",
    "def text_to_token_ids(text, tokenizer):\n",
    "    encoded = tokenizer.encode(text, allowed_special={'<|endoftext|>'})\n",
    "     # Adiciona a dimensão do batch\n",
    "    encoded_tensor = torch.tensor(encoded).unsqueeze(0)\n",
    "    return encoded_tensor\n",
    "\n",
    "start_context = \"Every effort moves you\"\n",
    "tokenizer = tiktoken.get_encoding(\"gpt2\")\n",
    "\n",
    "token_ids = text_to_token_ids(start_context, tokenizer)\n",
    "\n",
    "print(token_ids)"
   ]
  },
  {
   "cell_type": "code",
   "execution_count": 5,
   "id": "591a4f84",
   "metadata": {
    "editable": true,
    "slideshow": {
     "slide_type": "slide"
    },
    "tags": []
   },
   "outputs": [
    {
     "data": {
      "text/plain": [
       "tensor([[ 6109,  3626,  6100,   345, 34245,  5139,  2492, 25405, 17434, 17853,\n",
       "          5308,  3398, 13174, 43071]])"
      ]
     },
     "execution_count": 5,
     "metadata": {},
     "output_type": "execute_result"
    }
   ],
   "source": [
    "token_ids = generate_text_simple(\n",
    "    model=model,                   \n",
    "    idx=text_to_token_ids(start_context, tokenizer),\n",
    "    max_new_tokens=10,\n",
    "    context_size=GPT_CONFIG_124M[\"context_length\"]\n",
    ")\n",
    "token_ids"
   ]
  },
  {
   "cell_type": "code",
   "execution_count": 6,
   "id": "c7db0321",
   "metadata": {
    "editable": true,
    "slideshow": {
     "slide_type": ""
    },
    "tags": []
   },
   "outputs": [
    {
     "data": {
      "text/plain": [
       "'Every effort moves you rentingetic wasnم refres RexMeCHicular stren'"
      ]
     },
     "execution_count": 6,
     "metadata": {},
     "output_type": "execute_result"
    }
   ],
   "source": [
    "def token_ids_to_text(token_ids, tokenizer):\n",
    "    flat = token_ids.squeeze(0) # remove batch dimension\n",
    "    return tokenizer.decode(flat.tolist())\n",
    "\n",
    "token_ids_to_text(token_ids, tokenizer)"
   ]
  },
  {
   "cell_type": "markdown",
   "id": "505bfada-fdee-43ba-8310-21531903a313",
   "metadata": {
    "editable": true,
    "slideshow": {
     "slide_type": "slide"
    },
    "tags": []
   },
   "source": [
    "## Geração de Texto\n",
    "![](https://camo.githubusercontent.com/ac88f12d51d22b53ea46690fe158914073d0e8d78194bca68a077470ca1ae87d/68747470733a2f2f73656261737469616e72617363686b612e636f6d2f696d616765732f4c4c4d732d66726f6d2d736372617463682d696d616765732f636830355f636f6d707265737365642f70726f62612d746f2d746578742e77656270)"
   ]
  },
  {
   "cell_type": "markdown",
   "id": "8a9225e1-8a64-40cd-a113-ce22b995f417",
   "metadata": {
    "editable": true,
    "slideshow": {
     "slide_type": "slide"
    },
    "tags": []
   },
   "source": [
    "Considere os dois exemplos abaixo. Note que `targets` são as `inputs` deslocados em 1 posição. Esse deslocamento é crucial para ensinar o modelo a prever o próximo token em uma sequência."
   ]
  },
  {
   "cell_type": "code",
   "execution_count": 7,
   "id": "155d8b6f",
   "metadata": {
    "editable": true,
    "slideshow": {
     "slide_type": ""
    },
    "tags": []
   },
   "outputs": [],
   "source": [
    "inputs = torch.tensor(\n",
    "    [[16833, 3626, 6100], # [\"every effort moves\",\n",
    "    [40,    1107, 588]])  #  \"I really like\"]\n",
    "targets = torch.tensor([\n",
    "    [3626, 6100, 345  ],  # [\" effort moves you\",\n",
    "    [588,  428,  11311]]) #  \" really like chocolate\"]"
   ]
  },
  {
   "cell_type": "code",
   "execution_count": null,
   "id": "ad979be7",
   "metadata": {
    "editable": true,
    "slideshow": {
     "slide_type": ""
    },
    "tags": []
   },
   "outputs": [],
   "source": [
    "with torch.no_grad():\n",
    "    logits = model(inputs)\n",
    "print(logits.shape)\n",
    "# Probabilidade para cada token no vocabulário\n",
    "probas = torch.softmax(logits, dim=-1)\n",
    "# Shape: (batch_size, num_tokens, vocab_size)\n",
    "print(probas.shape)\n",
    "token_ids = torch.argmax(probas, dim=-1, keepdim=True)\n",
    "print(\"Token IDs:\\n\", token_ids)"
   ]
  },
  {
   "cell_type": "markdown",
   "id": "bd6e0dd0",
   "metadata": {
    "editable": true,
    "slideshow": {
     "slide_type": "slide"
    },
    "tags": []
   },
   "source": [
    "O decoding dos token IDs mostra o que foi produzido pelo modelo. Note que o como ainda não treinamos o modelo, a geração de texto é bem ruim."
   ]
  },
  {
   "cell_type": "code",
   "execution_count": 12,
   "id": "c77589fe",
   "metadata": {
    "editable": true,
    "slideshow": {
     "slide_type": ""
    },
    "tags": []
   },
   "outputs": [
    {
     "name": "stdout",
     "output_type": "stream",
     "text": [
      "Targets batch 1:  effort moves you\n",
      "Outputs batch 1:  Armed heNetflix\n"
     ]
    }
   ],
   "source": [
    "print(f\"Targets batch 1: {token_ids_to_text(targets[0], tokenizer)}\")\n",
    "print(f\"Outputs batch 1: {token_ids_to_text(token_ids[0].flatten(), tokenizer)}\")"
   ]
  },
  {
   "cell_type": "markdown",
   "id": "45e217f6",
   "metadata": {
    "editable": true,
    "slideshow": {
     "slide_type": "slide"
    },
    "tags": []
   },
   "source": [
    "## Loss de geração de texto\n",
    "\n",
    "<div style='align: left; text-align:center;'>\n",
    "    <img src='https://lena-voita.github.io/resources/lectures/lang_models/neural/one_step_loss_intuition-min.png' alt='Cross Entropy Loss' style=\"height:300px;\"/>\n",
    "    <span style='display:block;'>Cross Entropy Loss. Fonte: <a href=\"https://lena-voita.github.io/nlp_course/language_modeling.html\" target=\"_blank\">Lena Voita</a>.</span>\n",
    "    <br/>\n",
    "</div>"
   ]
  },
  {
   "cell_type": "code",
   "execution_count": 17,
   "id": "ca306e77",
   "metadata": {
    "editable": true,
    "slideshow": {
     "slide_type": "slide"
    },
    "tags": []
   },
   "outputs": [
    {
     "name": "stdout",
     "output_type": "stream",
     "text": [
      "Logits shape: torch.Size([2, 3, 50257])\n",
      "Targets shape: torch.Size([2, 3])\n"
     ]
    }
   ],
   "source": [
    "# Logits Shape: (batch_size, num_tokens, vocab_size)\n",
    "print(\"Logits shape:\", logits.shape)\n",
    "# Targets Shape: (batch_size, num_tokens)\n",
    "print(\"Targets shape:\", targets.shape)"
   ]
  },
  {
   "cell_type": "code",
   "execution_count": 18,
   "id": "c972f824",
   "metadata": {
    "editable": true,
    "slideshow": {
     "slide_type": ""
    },
    "tags": []
   },
   "outputs": [
    {
     "name": "stdout",
     "output_type": "stream",
     "text": [
      "Flattened logits: torch.Size([6, 50257])\n",
      "Flattened targets: torch.Size([6])\n"
     ]
    }
   ],
   "source": [
    "logits_flat = logits.flatten(0, 1)\n",
    "targets_flat = targets.flatten()\n",
    "print(\"Flattened logits:\", logits_flat.shape)\n",
    "print(\"Flattened targets:\", targets_flat.shape)"
   ]
  },
  {
   "cell_type": "code",
   "execution_count": 19,
   "id": "404dab3b",
   "metadata": {
    "editable": true,
    "slideshow": {
     "slide_type": ""
    },
    "tags": []
   },
   "outputs": [
    {
     "name": "stdout",
     "output_type": "stream",
     "text": [
      "tensor(10.7722)\n"
     ]
    }
   ],
   "source": [
    "loss = torch.nn.functional.cross_entropy(logits_flat, targets_flat)\n",
    "print(loss)"
   ]
  },
  {
   "cell_type": "markdown",
   "id": "2046600f",
   "metadata": {
    "editable": true,
    "slideshow": {
     "slide_type": "slide"
    },
    "tags": []
   },
   "source": [
    "## Perplexity\n",
    "\n",
    "- Um conceito relacionado à *cross entropy loss* é a *perplexity* de um LLM, que é simplesmente a exponencial da cross entropy loss.\n",
    "- A perplexidade costuma ser considerada mais interpretável porque pode ser entendida como o tamanho efetivo do vocabulário sobre o qual o modelo tem incerteza em cada passo.\n",
    "- A perplexidade fornece uma medida de quão bem a distribuição de probabilidade prevista pelo modelo corresponde à distribuição real das palavras no conjunto de dados.\n",
    "- Semelhante à loss, uma perplexidade menor indica que as previsões do modelo estão mais próximas da distribuição observada."
   ]
  },
  {
   "cell_type": "code",
   "execution_count": 20,
   "id": "000a07cb",
   "metadata": {
    "editable": true,
    "slideshow": {
     "slide_type": ""
    },
    "tags": []
   },
   "outputs": [
    {
     "name": "stdout",
     "output_type": "stream",
     "text": [
      "tensor(47678.8672)\n"
     ]
    }
   ],
   "source": [
    "perplexity = torch.exp(loss)\n",
    "print(perplexity)"
   ]
  },
  {
   "cell_type": "markdown",
   "id": "3d49b11f",
   "metadata": {
    "editable": true,
    "slideshow": {
     "slide_type": "slide"
    },
    "tags": []
   },
   "source": [
    "## Calculando loss de traino e validação"
   ]
  },
  {
   "cell_type": "markdown",
   "id": "c634ff4f",
   "metadata": {
    "editable": true,
    "slideshow": {
     "slide_type": ""
    },
    "tags": []
   },
   "source": [
    "Para calcular a perda (loss) nos conjuntos de dados de treinamento e validação, utilizamos o pequeno conjunto de textos The Verdict, conto curto de Edith Wharton, com o qual já trabalhamos no início. \n",
    "\n",
    "Curiosidade: o modelo Llama 2‑7B precisou de 184.320 horas de GPU em GPUs A100 para ser treinado em 2 trilhões de tokens. Calculando o custo horário de um servidor em nuvem AWS com 8×A100 a aproximadamente 30 dóalres, treinar esse LLM custaria:  \n",
    "$\\text{custo} = \\frac{184\\,320}{8} \\times \\$30 = \\$690.000$."
   ]
  },
  {
   "cell_type": "code",
   "execution_count": null,
   "id": "1dc17f9e-8ea8-4988-8ce0-bdabd9793820",
   "metadata": {
    "editable": true,
    "slideshow": {
     "slide_type": "skip"
    },
    "tags": []
   },
   "outputs": [],
   "source": [
    "import os\n",
    "import urllib.request\n",
    "\n",
    "file_path = \"the-verdict.txt\"\n",
    "url = \"https://raw.githubusercontent.com/rasbt/LLMs-from-scratch/main/ch02/01_main-chapter-code/the-verdict.txt\"\n",
    "if not os.path.exists(file_path):\n",
    "    with urllib.request.urlopen(url) as response:\n",
    "        text_data = response.read().decode('utf-8')\n",
    "    with open(file_path, \"w\", encoding=\"utf-8\") as file:\n",
    "        file.write(text_data)\n",
    "else:\n",
    "    with open(file_path, \"r\", encoding=\"utf-8\") as file:\n",
    "        text_data = file.read()"
   ]
  },
  {
   "cell_type": "code",
   "execution_count": null,
   "id": "ce534307-f9d9-4b00-a66d-ac929494a184",
   "metadata": {
    "editable": true,
    "slideshow": {
     "slide_type": "skip"
    },
    "tags": []
   },
   "outputs": [],
   "source": [
    "total_characters = len(text_data)\n",
    "total_tokens = len(tokenizer.encode(text_data))\n",
    "print(\"Characters:\", total_characters)\n",
    "print(\"Tokens:\", total_tokens)"
   ]
  },
  {
   "cell_type": "markdown",
   "id": "b6f3f444",
   "metadata": {
    "editable": true,
    "slideshow": {
     "slide_type": "slide"
    },
    "tags": []
   },
   "source": [
    "### Dividindo o dataset"
   ]
  },
  {
   "cell_type": "markdown",
   "id": "d15bd156",
   "metadata": {
    "editable": true,
    "slideshow": {
     "slide_type": ""
    },
    "tags": []
   },
   "source": [
    "<div style='align: left; text-align:center;'>\n",
    "    <img src='https://sebastianraschka.com/images/LLMs-from-scratch-images/ch05_compressed/batching.webp' alt='Dividindo o dataset' style=\"height:500px;\"/>\n",
    "    <span style='display:block;'>Dividindo o dataset em treino e validação. Fonte: Sebastian Raschka.</span>\n",
    "    <br/>\n",
    "</div>"
   ]
  },
  {
   "cell_type": "code",
   "execution_count": 26,
   "id": "58e9ccad",
   "metadata": {
    "editable": true,
    "slideshow": {
     "slide_type": "slide"
    },
    "tags": []
   },
   "outputs": [],
   "source": [
    "from llmdefinitions import create_dataloader_v1\n",
    "\n",
    "train_ratio = 0.90\n",
    "split_idx = int(train_ratio * len(text_data))\n",
    "train_data = text_data[:split_idx]\n",
    "val_data = text_data[split_idx:] \n",
    "\n",
    "torch.manual_seed(123)\n",
    "\n",
    "train_loader = create_dataloader_v1(\n",
    "    train_data,\n",
    "    batch_size=2,\n",
    "    max_length=GPT_CONFIG_124M[\"context_length\"],\n",
    "    stride=GPT_CONFIG_124M[\"context_length\"],\n",
    "    drop_last=True,\n",
    "    shuffle=True,\n",
    ")\n",
    "\n",
    "val_loader = create_dataloader_v1(\n",
    "    val_data,\n",
    "    batch_size=2,\n",
    "    max_length=GPT_CONFIG_124M[\"context_length\"],\n",
    "    stride=GPT_CONFIG_124M[\"context_length\"],\n",
    "    drop_last=False,\n",
    "    shuffle=False,\n",
    ")"
   ]
  },
  {
   "cell_type": "code",
   "execution_count": 27,
   "id": "1a6a6dc6",
   "metadata": {
    "editable": true,
    "slideshow": {
     "slide_type": "skip"
    },
    "tags": []
   },
   "outputs": [],
   "source": [
    "# Sanity check\n",
    "\n",
    "if total_tokens * (train_ratio) < GPT_CONFIG_124M[\"context_length\"]:\n",
    "    print(\"Not enough tokens for the training loader. \"\n",
    "          \"Try to lower the `GPT_CONFIG_124M['context_length']` or \"\n",
    "          \"increase the `training_ratio`\")\n",
    "\n",
    "if total_tokens * (1-train_ratio) < GPT_CONFIG_124M[\"context_length\"]:\n",
    "    print(\"Not enough tokens for the validation loader. \"\n",
    "          \"Try to lower the `GPT_CONFIG_124M['context_length']` or \"\n",
    "          \"decrease the `training_ratio`\")"
   ]
  },
  {
   "cell_type": "markdown",
   "id": "ccba465d",
   "metadata": {
    "editable": true,
    "slideshow": {
     "slide_type": "slide"
    },
    "tags": []
   },
   "source": [
    "### Verificando os dataloaders\n",
    "\n",
    "Temos 9 batches de treinamento com 2 amostras e 256 tokens cada um. Como alocamos apenas 10\\% dos dados para validação, há apenas um lote de validação composto por 2 exemplos de entrada."
   ]
  },
  {
   "cell_type": "code",
   "execution_count": 28,
   "id": "f52a1f3c",
   "metadata": {
    "editable": true,
    "slideshow": {
     "slide_type": ""
    },
    "tags": []
   },
   "outputs": [
    {
     "name": "stdout",
     "output_type": "stream",
     "text": [
      "Train loader:\n",
      "torch.Size([2, 256]) torch.Size([2, 256])\n",
      "torch.Size([2, 256]) torch.Size([2, 256])\n",
      "torch.Size([2, 256]) torch.Size([2, 256])\n",
      "torch.Size([2, 256]) torch.Size([2, 256])\n",
      "torch.Size([2, 256]) torch.Size([2, 256])\n",
      "torch.Size([2, 256]) torch.Size([2, 256])\n",
      "torch.Size([2, 256]) torch.Size([2, 256])\n",
      "torch.Size([2, 256]) torch.Size([2, 256])\n",
      "torch.Size([2, 256]) torch.Size([2, 256])\n",
      "\n",
      "Validation loader:\n",
      "torch.Size([2, 256]) torch.Size([2, 256])\n"
     ]
    }
   ],
   "source": [
    "print(\"Train loader:\")\n",
    "for x, y in train_loader:\n",
    "    print(x.shape, y.shape)\n",
    "\n",
    "print(\"\\nValidation loader:\")\n",
    "for x, y in val_loader:\n",
    "    print(x.shape, y.shape)"
   ]
  },
  {
   "cell_type": "code",
   "execution_count": 29,
   "id": "d17f92be",
   "metadata": {
    "editable": true,
    "slideshow": {
     "slide_type": "skip"
    },
    "tags": []
   },
   "outputs": [
    {
     "name": "stdout",
     "output_type": "stream",
     "text": [
      "Training tokens: 4608\n",
      "Validation tokens: 512\n",
      "All tokens: 5120\n"
     ]
    }
   ],
   "source": [
    "train_tokens = 0\n",
    "for input_batch, target_batch in train_loader:\n",
    "    train_tokens += input_batch.numel()\n",
    "\n",
    "val_tokens = 0\n",
    "for input_batch, target_batch in val_loader:\n",
    "    val_tokens += input_batch.numel()\n",
    "\n",
    "print(\"Training tokens:\", train_tokens)\n",
    "print(\"Validation tokens:\", val_tokens)\n",
    "print(\"All tokens:\", train_tokens + val_tokens)"
   ]
  },
  {
   "cell_type": "code",
   "execution_count": 30,
   "id": "4badf13d",
   "metadata": {
    "editable": true,
    "slideshow": {
     "slide_type": "skip"
    },
    "tags": []
   },
   "outputs": [],
   "source": [
    "def calc_loss_batch(input_batch, target_batch, model, device):\n",
    "    input_batch, target_batch = input_batch.to(device), target_batch.to(device)\n",
    "    logits = model(input_batch)\n",
    "    loss = torch.nn.functional.cross_entropy(\n",
    "        logits.flatten(0, 1), target_batch.flatten())\n",
    "    return loss\n",
    "\n",
    "def calc_loss_loader(data_loader, model, device, num_batches=None):\n",
    "    total_loss = 0.\n",
    "    if len(data_loader) == 0:\n",
    "        return float(\"nan\")\n",
    "    elif num_batches is None:\n",
    "        num_batches = len(data_loader)\n",
    "    else:\n",
    "        # Reduzimos o número de batches para corresponder ao total de lotes no DataLoader.\n",
    "        # Se `num_batches` exceder a quantidade de batches disponível, faz-se essa correção\n",
    "        num_batches = min(num_batches, len(data_loader))\n",
    "    for i, (input_batch, target_batch) in enumerate(data_loader):\n",
    "        if i < num_batches:\n",
    "            loss = calc_loss_batch(input_batch, target_batch, model, device)\n",
    "            total_loss += loss.item()\n",
    "        else:\n",
    "            break\n",
    "    return total_loss / num_batches"
   ]
  },
  {
   "cell_type": "code",
   "execution_count": 31,
   "id": "ff35848f",
   "metadata": {
    "editable": true,
    "slideshow": {
     "slide_type": "skip"
    },
    "tags": []
   },
   "outputs": [],
   "source": [
    "def set_device(on_gpu=True):\n",
    "    has_mps = torch.backends.mps.is_available()\n",
    "    has_cuda = torch.cuda.is_available()\n",
    "    return \"mps\" if (has_mps and on_gpu) else \"cuda\" if (has_cuda and on_gpu) else \"cpu\""
   ]
  },
  {
   "cell_type": "code",
   "execution_count": 32,
   "id": "0c85ebac",
   "metadata": {
    "editable": true,
    "slideshow": {
     "slide_type": "slide"
    },
    "tags": []
   },
   "outputs": [
    {
     "name": "stdout",
     "output_type": "stream",
     "text": [
      "Training loss: 10.98758316040039\n",
      "Validation loss: 10.98110580444336\n"
     ]
    }
   ],
   "source": [
    "device = set_device()\n",
    "model.to(device)\n",
    "\n",
    "torch.manual_seed(123)\n",
    "\n",
    "with torch.no_grad():\n",
    "    train_loss = calc_loss_loader(train_loader, model, device)\n",
    "    val_loss = calc_loss_loader(val_loader, model, device)\n",
    "\n",
    "print(\"Training loss:\", train_loss)\n",
    "print(\"Validation loss:\", val_loss)"
   ]
  },
  {
   "cell_type": "markdown",
   "id": "0d8f6edb",
   "metadata": {
    "editable": true,
    "slideshow": {
     "slide_type": "slide"
    },
    "tags": []
   },
   "source": [
    "## Pré-treinamento"
   ]
  },
  {
   "cell_type": "markdown",
   "id": "28894c28",
   "metadata": {
    "editable": true,
    "slideshow": {
     "slide_type": ""
    },
    "tags": []
   },
   "source": [
    "![]()\n",
    "\n",
    "\n",
    "<div style='align: left; text-align:center;'>\n",
    "    <img src='https://camo.githubusercontent.com/7a232fecc385a11b71cf7e0d59b79a21345d3dd15c58e012a717cec80e1af613/68747470733a2f2f73656261737469616e72617363686b612e636f6d2f696d616765732f4c4c4d732d66726f6d2d736372617463682d696d616765732f636830355f636f6d707265737365642f747261696e2d73746570732e77656270' alt='Pré-treinamento' style=\"height:400px;\"/>\n",
    "    <span style='display:block;'>Pré-treinamento. Fonte: Sebastian Raschka.</span>\n",
    "    <br/>\n",
    "</div>"
   ]
  },
  {
   "cell_type": "code",
   "execution_count": null,
   "id": "0545cc5a-9f07-40ba-bcf6-e75f539d74bc",
   "metadata": {
    "editable": true,
    "slideshow": {
     "slide_type": "slide"
    },
    "tags": []
   },
   "outputs": [],
   "source": [
    "def train_model_simple(model, train_loader, val_loader, \n",
    "                       optimizer, device, num_epochs,\n",
    "                       eval_freq, eval_iter, start_context, tokenizer):\n",
    "    train_losses, val_losses, track_tokens_seen = [], [], []\n",
    "    tokens_seen, global_step = 0, -1\n",
    "    # Training loop\n",
    "    for epoch in range(num_epochs):\n",
    "        model.train()\n",
    "        \n",
    "        for input_batch, target_batch in train_loader:\n",
    "            optimizer.zero_grad() # Reset loss gradients\n",
    "            loss = calc_loss_batch(input_batch, target_batch, model, device)\n",
    "            loss.backward() # Calculate loss gradients\n",
    "            optimizer.step() # Update model weights using loss gradients\n",
    "            tokens_seen += input_batch.numel()\n",
    "            global_step += 1\n",
    "\n",
    "            if global_step % eval_freq == 0:\n",
    "                train_loss, val_loss = evaluate_model(\n",
    "                    model, train_loader, val_loader, device, eval_iter)\n",
    "                train_losses.append(train_loss)\n",
    "                val_losses.append(val_loss)\n",
    "                track_tokens_seen.append(tokens_seen)\n",
    "                print(f\"Ep {epoch+1} (Step {global_step:06d}): \"\n",
    "                      f\"Train loss {train_loss:.3f}, Val loss {val_loss:.3f}\")\n",
    "\n",
    "        generate_and_print_sample(\n",
    "            model, tokenizer, device, start_context\n",
    "        )\n",
    "\n",
    "    return train_losses, val_losses, track_tokens_seen"
   ]
  },
  {
   "cell_type": "code",
   "execution_count": null,
   "id": "e9be9d2e-49b4-4d0f-949b-bcc4ac4df715",
   "metadata": {
    "editable": true,
    "slideshow": {
     "slide_type": "slide"
    },
    "tags": []
   },
   "outputs": [],
   "source": [
    "def evaluate_model(model, train_loader, \n",
    "                   val_loader, device, eval_iter):\n",
    "    model.eval()\n",
    "    with torch.no_grad():\n",
    "        train_loss = calc_loss_loader(\n",
    "            train_loader, model, \n",
    "            device, num_batches=eval_iter)\n",
    "        val_loss = calc_loss_loader(\n",
    "            val_loader, model, \n",
    "            device, num_batches=eval_iter)\n",
    "    model.train()\n",
    "    return train_loss, val_loss"
   ]
  },
  {
   "cell_type": "code",
   "execution_count": null,
   "id": "1e2300cb-1743-4f69-ad4f-1c2764db7a39",
   "metadata": {
    "editable": true,
    "slideshow": {
     "slide_type": "skip"
    },
    "tags": []
   },
   "outputs": [],
   "source": [
    "def generate_and_print_sample(model, tokenizer, device, start_context):\n",
    "    model.eval()\n",
    "    context_size = model.pos_emb.weight.shape[0]\n",
    "    encoded = text_to_token_ids(start_context, tokenizer).to(device)\n",
    "    with torch.no_grad():\n",
    "        token_ids = generate_text_simple(\n",
    "            model=model, idx=encoded,\n",
    "            max_new_tokens=50, context_size=context_size\n",
    "        )\n",
    "        decoded_text = token_ids_to_text(token_ids, tokenizer)\n",
    "        print(decoded_text.replace(\"\\n\", \" \"))\n",
    "    model.train()"
   ]
  },
  {
   "cell_type": "markdown",
   "id": "7a193704-6a9d-4723-b0a0-e13e73eebeef",
   "metadata": {
    "editable": true,
    "slideshow": {
     "slide_type": "slide"
    },
    "tags": []
   },
   "source": [
    "### Treinando o modelo\n",
    "\n",
    "- Treinamos o `GPTModel` por 10 épocas usando um otimizador AdamW e a função `train_model_simple` que definimos anteriormente. \n",
    "- AdamW é uma variante do Adam que aprimora o método de *weight decay*, cujo objetivo é minimizar a complexidade do modelo e evitar overfitting, penalizando pesos maiores.\n",
    "- Para conjuntos de dados maiores, geralmente 1 ou 2 épocas são suficientes; aqui usamos 10 porque o conjunto de treinamento é muito pequeno, permitindo que o modelo aprenda algo útil."
   ]
  },
  {
   "cell_type": "code",
   "execution_count": null,
   "id": "37f1ed1a",
   "metadata": {
    "editable": true,
    "slideshow": {
     "slide_type": ""
    },
    "tags": []
   },
   "outputs": [],
   "source": [
    "torch.manual_seed(123)\n",
    "model = GPTModel(GPT_CONFIG_124M)\n",
    "model.to(device)\n",
    "optimizer = torch.optim.AdamW(model.parameters(), \n",
    "                              lr=0.0004, weight_decay=0.1)\n",
    "num_epochs = 10\n",
    "train_losses, val_losses, tokens_seen = train_model_simple(\n",
    "    model, train_loader, val_loader, optimizer, device,\n",
    "    num_epochs=num_epochs, eval_freq=5, eval_iter=5,\n",
    "    start_context=\"Every effort moves you\", tokenizer=tokenizer\n",
    ")"
   ]
  },
  {
   "cell_type": "code",
   "execution_count": null,
   "id": "76f1b0a5-42f9-4c2f-95a5-74639c068837",
   "metadata": {
    "editable": true,
    "slideshow": {
     "slide_type": "skip"
    },
    "tags": []
   },
   "outputs": [],
   "source": [
    "import matplotlib.pyplot as plt\n",
    "\n",
    "def plot_losses(epochs_seen, tokens_seen, train_losses, val_losses):\n",
    "    fig, ax1 = plt.subplots(figsize=(5, 3))\n",
    "\n",
    "    # Plot training and validation loss against epochs\n",
    "    ax1.plot(epochs_seen, train_losses, label=\"Training loss\")\n",
    "    ax1.plot(epochs_seen, val_losses, linestyle=\"-.\", label=\"Validation loss\")\n",
    "    ax1.set_xlabel(\"Epochs\")\n",
    "    ax1.set_ylabel(\"Loss\")\n",
    "    ax1.legend(loc=\"upper right\")\n",
    "\n",
    "    # Create a second x-axis for tokens seen\n",
    "    ax2 = ax1.twiny()  # Create a second x-axis that shares the same y-axis\n",
    "    ax2.plot(tokens_seen, train_losses, alpha=0)  # Invisible plot for aligning ticks\n",
    "    ax2.set_xlabel(\"Tokens seen\")\n",
    "\n",
    "    fig.tight_layout()  # Adjust layout to make room\n",
    "    #plt.savefig(\"loss-plot.pdf\")\n",
    "    plt.show()"
   ]
  },
  {
   "cell_type": "code",
   "execution_count": null,
   "id": "d34d584f-7b5a-41ab-9ae4-78f1caf2aa95",
   "metadata": {
    "editable": true,
    "slideshow": {
     "slide_type": "slide"
    },
    "tags": []
   },
   "outputs": [
    {
     "data": {
      "image/png": "[encoded data removed]",
      "text/plain": [
       "<Figure size 500x300 with 2 Axes>"
      ]
     },
     "metadata": {},
     "output_type": "display_data"
    }
   ],
   "source": [
    "epochs_tensor = torch.linspace(0, num_epochs, len(train_losses))\n",
    "plot_losses(epochs_tensor, tokens_seen, train_losses, val_losses)"
   ]
  },
  {
   "cell_type": "markdown",
   "id": "ff9a963b",
   "metadata": {
    "editable": true,
    "slideshow": {
     "slide_type": "slide"
    },
    "tags": []
   },
   "source": [
    "## Temperature scaling\n",
    "\n",
    "<div style='align: left; text-align:center;'>\n",
    "    <img src='https://cdn.prod.website-files.com/618399cd49d125734c8dec95/6639e35ce91c16b3b9564b2f_mxaIPcROZcBFYta1I0nzWjlGTgs-LxzUOE3p6Kbvf9qPpZzBh5AAZG7ciRtgVquhLTtrM8ToJdNd-ubXvuz8tRfrqBwSozWHCj457pm378buxz2-XrMfWzfSv3b793QP61kLxRKT299WP1gbas_E118.png' alt='Temperatura LLM' style=\"height:250px;\"/>\n",
    "    <span style='display:block;'>Temperature Scaling. Fonte: <a href=https://cdn.prod.website-files.com/618399cd49d125734c8dec95/6639e35ce91c16b3b9564b2f_mxaIPcROZcBFYta1I0nzWjlGTgs-LxzUOE3p6Kbvf9qPpZzBh5AAZG7ciRtgVquhLTtrM8ToJdNd-ubXvuz8tRfrqBwSozWHCj457pm378buxz2-XrMfWzfSv3b793QP61kLxRKT299WP1gbas_E118.png\" target=\"_blank\">Hopsworks.ai</a>.</span>\n",
    "    <br/>\n",
    "</div>\n",
    "\n",
    "\n"
   ]
  },
  {
   "cell_type": "markdown",
   "id": "2e7ee499",
   "metadata": {
    "editable": true,
    "slideshow": {
     "slide_type": "slide"
    },
    "tags": []
   },
   "source": [
    "## Top-k sampling"
   ]
  },
  {
   "cell_type": "markdown",
   "id": "31e0f44c",
   "metadata": {
    "editable": true,
    "slideshow": {
     "slide_type": ""
    },
    "tags": []
   },
   "source": [
    "<div style='align: left; text-align:center;'>\n",
    "    <img src='https://camo.githubusercontent.com/91e2cf67b9c112c7ee396326977aeefa8daaf7e5ea1600c6753443c02ef9afe8/68747470733a2f2f73656261737469616e72617363686b612e636f6d2f696d616765732f4c4c4d732d66726f6d2d736372617463682d696d616765732f636830355f636f6d707265737365642f746f706b2e77656270' alt='Top-k sampling' style=\"height:300px;\"/>\n",
    "    <span style='display:block;'>Top-k sampling. Fonte: Sebastian Raschka.</span>\n",
    "    <br/>\n",
    "</div>"
   ]
  },
  {
   "cell_type": "markdown",
   "id": "fa8436d4",
   "metadata": {
    "editable": true,
    "slideshow": {
     "slide_type": "slide"
    },
    "tags": []
   },
   "source": [
    "## Combinando estratégias"
   ]
  },
  {
   "cell_type": "code",
   "execution_count": 53,
   "id": "5a1519b6",
   "metadata": {
    "editable": true,
    "slideshow": {
     "slide_type": ""
    },
    "tags": []
   },
   "outputs": [],
   "source": [
    "def generate(model, idx, max_new_tokens, context_size, temperature, top_k=None):\n",
    "    for _ in range(max_new_tokens):\n",
    "        idx_cond = idx[:, -context_size:]\n",
    "        with torch.no_grad():\n",
    "            logits = model(idx_cond)\n",
    "        logits = logits[:, -1, :]\n",
    "        # Aplica top-k sampling\n",
    "        if top_k is not None:\n",
    "            top_logits, _ = torch.topk(logits, top_k)\n",
    "            min_val = top_logits[:, -1]\n",
    "            logits = torch.where(\n",
    "                logits < min_val, \n",
    "                torch.tensor(float('-inf')).to(logits.device), logits)\n",
    "        # Aplica temperature scaling\n",
    "        if temperature > 0.0:\n",
    "            logits = logits / temperature\n",
    "            probs = torch.softmax(logits, dim=-1)  # (batch_size, context_len)\n",
    "            idx_next = torch.multinomial(probs, num_samples=1)  # (batch_size, 1)\n",
    "        else:\n",
    "            idx_next = torch.argmax(logits, dim=-1, keepdim=True)  # (batch_size, 1)\n",
    "            \n",
    "        idx = torch.cat((idx, idx_next), dim=1)  # (batch_size, num_tokens+1)\n",
    "\n",
    "    return idx"
   ]
  },
  {
   "cell_type": "code",
   "execution_count": 54,
   "id": "dfa7cfb9",
   "metadata": {
    "editable": true,
    "slideshow": {
     "slide_type": "slide"
    },
    "tags": []
   },
   "outputs": [
    {
     "name": "stdout",
     "output_type": "stream",
     "text": [
      "Output text:\n",
      " Every effort moves you\"\". I it a,. his that \" my-- \"\n",
      "\n"
     ]
    }
   ],
   "source": [
    "torch.manual_seed(123)\n",
    "\n",
    "token_ids = generate(\n",
    "    model=model,\n",
    "    idx=text_to_token_ids(\"Every effort moves you\", tokenizer),\n",
    "    max_new_tokens=15,\n",
    "    context_size=GPT_CONFIG_124M[\"context_length\"],\n",
    "    top_k=25,\n",
    "    temperature=1.4\n",
    ")\n",
    "\n",
    "print(\"Output text:\\n\", token_ids_to_text(token_ids, tokenizer))"
   ]
  },
  {
   "cell_type": "markdown",
   "id": "dfc12c2a",
   "metadata": {
    "editable": true,
    "slideshow": {
     "slide_type": "skip"
    },
    "tags": []
   },
   "source": [
    "## Salvando e carregando pesos do modelo "
   ]
  },
  {
   "cell_type": "code",
   "execution_count": 55,
   "id": "2b68941d",
   "metadata": {
    "editable": true,
    "slideshow": {
     "slide_type": "skip"
    },
    "tags": []
   },
   "outputs": [],
   "source": [
    "torch.save(model.state_dict(), \"model.pth\")"
   ]
  },
  {
   "cell_type": "code",
   "execution_count": 57,
   "id": "7a077275",
   "metadata": {
    "editable": true,
    "slideshow": {
     "slide_type": "skip"
    },
    "tags": []
   },
   "outputs": [],
   "source": [
    "model = GPTModel(GPT_CONFIG_124M)\n",
    "model.load_state_dict(torch.load(\"model.pth\"))\n",
    "model.eval();"
   ]
  },
  {
   "cell_type": "code",
   "execution_count": 58,
   "id": "4a8d01b3",
   "metadata": {
    "editable": true,
    "slideshow": {
     "slide_type": "skip"
    },
    "tags": []
   },
   "outputs": [],
   "source": [
    "torch.save({\n",
    "    \"model_state_dict\": model.state_dict(),\n",
    "    \"optimizer_state_dict\": optimizer.state_dict(),\n",
    "    }, \n",
    "    \"model_and_optimizer.pth\"\n",
    ")"
   ]
  },
  {
   "cell_type": "code",
   "execution_count": 59,
   "id": "1602e458",
   "metadata": {
    "editable": true,
    "slideshow": {
     "slide_type": "skip"
    },
    "tags": []
   },
   "outputs": [],
   "source": [
    "checkpoint = torch.load(\"model_and_optimizer.pth\")\n",
    "\n",
    "model = GPTModel(GPT_CONFIG_124M)\n",
    "model.load_state_dict(checkpoint[\"model_state_dict\"])\n",
    "\n",
    "optimizer = torch.optim.AdamW(model.parameters(), lr=0.0005, weight_decay=0.1)\n",
    "optimizer.load_state_dict(checkpoint[\"optimizer_state_dict\"])\n",
    "model.train();"
   ]
  }
 ],
 "metadata": {
  "kernelspec": {
   "display_name": "Python 3 (ipykernel)",
   "language": "python",
   "name": "python3"
  },
  "language_info": {
   "codemirror_mode": {
    "name": "ipython",
    "version": 3
   },
   "file_extension": ".py",
   "mimetype": "text/x-python",
   "name": "python",
   "nbconvert_exporter": "python",
   "pygments_lexer": "ipython3",
   "version": "3.11.7"
  },
  "rise": {
   "enable_chalkboard": true,
   "height": "80%",
   "overlay": "",
   "reveal_shortcuts": {
    "chalkboard": {
     "clear": "ctrl-k"
    },
    "main": {
     "toggleOverview": "tab"
    }
   },
   "scroll": true,
   "slideNumber": "c/t",
   "theme": "white",
   "transition": "slide",
   "width": "80%"
  }
 },
 "nbformat": 4,
 "nbformat_minor": 5
}
