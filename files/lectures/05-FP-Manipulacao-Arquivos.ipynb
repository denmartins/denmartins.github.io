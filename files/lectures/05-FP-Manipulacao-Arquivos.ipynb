{
 "cells": [
  {
   "cell_type": "markdown",
   "id": "3ec59a22",
   "metadata": {},
   "source": [
    "---\n",
    "\n",
    "# Fundamentos de Programação em Python\n",
    "\n",
    "## Pontifícia Universidade Católica de Campinas\n",
    "\n",
    "## Prof. Dr. Denis Mayr Lima Martins\n",
    "\n",
    "---"
   ]
  },
  {
   "cell_type": "markdown",
   "id": "13110383",
   "metadata": {},
   "source": [
    "\n",
    "### 📝 Aula 5: Manipulação de Arquivos\n",
    "\n",
    "Bem-vindo a mais uma aula de **Fundamentos de Programação em Python**!\n",
    "\n",
    "**📌 O que veremos hoje?**\n",
    "\n",
    "Nesta aula, exploraremos como ler e escrever arquivos em Python. A manipulação de arquivos é uma funcionalidade essencial para o processamento e armazenamento de dados em Python.\n",
    "\n",
    "**🎯 Objetivos de Aprendizagem**\n",
    "\n",
    "Ao final desta aula, você será capaz de:\n",
    "\n",
    "- Compreender os princípios básicos da manipulação de arquivos em Python\n",
    "- Trabalhar com arquivos para armazenar e processar dados\n",
    "- Aplicar boas práticas na manipulação de arquivos\n",
    "---"
   ]
  },
  {
   "cell_type": "markdown",
   "id": "dd0dae46",
   "metadata": {},
   "source": [
    "## Abrindo e Fechando Arquivos\n",
    "\n",
    "Para trabalhar com arquivos em Python, é fundamental saber como abrir e fechar arquivos corretamente.\n",
    "\n",
    "### Função open()\n",
    "\n",
    "A função open() é utilizada para abrir um arquivo e retorna um objeto do tipo arquivo. Sua sintaxe básica é​ `file_object = open(\"nome_do_arquivo\", \"modo\")`, onde:\n",
    "\n",
    "- `nome_do_arquivo`: Especifica o caminho e o nome do arquivo a ser aberto.​\n",
    "- `modo`: Determina a finalidade da abertura do arquivo (leitura, escrita, etc.).\n",
    "\n",
    "\n",
    "### Modos de Abertura\n",
    "\n",
    "Os modos mais comuns para abrir arquivos são:\n",
    "\n",
    "- 'r': Modo de leitura. Abre um arquivo para leitura (padrão).​\n",
    "- 'w': Modo de escrita. Cria um novo arquivo ou sobrescreve o existente para escrita.​\n",
    "- 'a': Modo de anexação. Abre um arquivo para adicionar conteúdo ao final sem sobrescrever o existente.​\n",
    "- 'b': Modo binário. Utilizado para arquivos binários, como imagens. Pode ser combinado com outros modos, como 'rb' ou 'wb'."
   ]
  },
  {
   "cell_type": "code",
   "execution_count": 3,
   "id": "bd83fde8",
   "metadata": {},
   "outputs": [],
   "source": [
    "arquivo = open(\"novo_arquivo.txt\", \"w\")"
   ]
  },
  {
   "cell_type": "markdown",
   "id": "ab60cb80",
   "metadata": {},
   "source": [
    "\n",
    "### Fechando Arquivos\n",
    "\n",
    "Após concluir as operações em um arquivo, é essencial fechá-lo para liberar recursos do sistema. Isso é feito com o método `close()`:​\n",
    "\n",
    "```python\n",
    "file_object.close()\n",
    "``` "
   ]
  },
  {
   "cell_type": "code",
   "execution_count": 4,
   "id": "28ce2ff8",
   "metadata": {},
   "outputs": [],
   "source": [
    "arquivo.close()"
   ]
  },
  {
   "cell_type": "markdown",
   "id": "e0c206c3",
   "metadata": {},
   "source": [
    "### Boa prática\n",
    "\n",
    "Uma prática recomendada é utilizar a estrutura with para abrir arquivos, garantindo que eles sejam fechados automaticamente após o bloco de código ser executado:​\n",
    "\n",
    "```python\n",
    "with open(\"nome_do_arquivo\", \"modo\") as file_object:\n",
    "    # operações com o arquivo\n",
    "```"
   ]
  },
  {
   "cell_type": "markdown",
   "id": "afbfedc6",
   "metadata": {},
   "source": [
    "O formato TXT é um dos mais simples e contém apenas texto puro. Ele é útil para armazenar logs, listas e dados simples sem estrutura tabular."
   ]
  },
  {
   "cell_type": "code",
   "execution_count": null,
   "id": "a93924c2",
   "metadata": {},
   "outputs": [],
   "source": [
    "# Criando e escrevendo em um arquivo TXT\n",
    "with open(\"arquivo.txt\", \"w\") as arquivo:\n",
    "    arquivo.write(\"Olá, este é um arquivo de texto!\\n\")\n",
    "    arquivo.write(\"Cada linha pode armazenar informações diferentes.\\n\")"
   ]
  },
  {
   "cell_type": "code",
   "execution_count": null,
   "id": "18eeeda9",
   "metadata": {},
   "outputs": [],
   "source": [
    "# Lendo um arquivo TXT\n",
    "with open(\"arquivo.txt\", \"r\") as arquivo:\n",
    "    conteudo = arquivo.read()\n",
    "    print(conteudo)  # Exibe todo o conteúdo do arquivo"
   ]
  },
  {
   "cell_type": "code",
   "execution_count": null,
   "id": "465199a1",
   "metadata": {},
   "outputs": [],
   "source": [
    "arq = open(\"vendas.txt\", 'r') "
   ]
  },
  {
   "cell_type": "markdown",
   "id": "b19f094f",
   "metadata": {},
   "source": [
    "Uma vez aberto, podemos realizar a leitura do arquivo usando as funções: read(n), readline( ) ou readlines( ).\n",
    "\n",
    "A função read(n) lê até n bytes. Caso o valor não seja informado, a função lê o arquivo inteiro. A função readline( ) retorna uma string contendo a primeira linha do arquivo. Por fim, a função readlines( ) retorna uma lista de strings, sendo cada elemento uma linha do arquivo."
   ]
  },
  {
   "cell_type": "code",
   "execution_count": null,
   "id": "3bb302ae",
   "metadata": {},
   "outputs": [],
   "source": [
    "linhas = arq.readlines()\n",
    "type(linhas)\n"
   ]
  },
  {
   "cell_type": "code",
   "execution_count": null,
   "id": "6c216bb3",
   "metadata": {
    "scrolled": true
   },
   "outputs": [],
   "source": [
    "for linha in linhas:\n",
    "    print(linha)"
   ]
  },
  {
   "cell_type": "code",
   "execution_count": null,
   "id": "bef5c7b4",
   "metadata": {},
   "outputs": [],
   "source": [
    "arq = open(\"meu_arquivo.txt\",\"w+\")\n",
    " \n",
    "linhasParaOArquivo = [\"linha 1\",\"linha 2\",\"linha 3\", \"linha 4\",\"linha 5\"]\n",
    " \n",
    "for l in linhasParaOArquivo:\n",
    "    arq.write(l)\n",
    "    arq.write(\"\\n\")\n",
    "\n",
    "arq.close()"
   ]
  },
  {
   "cell_type": "markdown",
   "id": "4c421dde",
   "metadata": {},
   "source": [
    "📖 **Exercício 1**: Crie um programa que lê um arquivo de texto (meu_texto.txt) e conta quantas palavras ele contém.\n",
    "\n",
    "Requisitos:\n",
    "\n",
    "- Considere que as palavras estão separadas por espaços.\n",
    "- Exiba o total de palavras ao final."
   ]
  },
  {
   "cell_type": "code",
   "execution_count": 5,
   "id": "bf60c8ed",
   "metadata": {},
   "outputs": [],
   "source": [
    "# Adicione sua solução aqui"
   ]
  },
  {
   "cell_type": "markdown",
   "id": "86095e78",
   "metadata": {},
   "source": [
    "📖 **Exercício 2**:  Escreva um programa que permita ao usuário adicionar mais texto ao arquivo meu_texto.txt sem apagar o conteúdo existente. O programa deve utilizar o modo de abertura \"a\" (anexação).\n",
    "\n"
   ]
  },
  {
   "cell_type": "code",
   "execution_count": null,
   "id": "be230880",
   "metadata": {},
   "outputs": [],
   "source": [
    "# Adicione sua solução aqui"
   ]
  },
  {
   "cell_type": "markdown",
   "id": "b21c02b9",
   "metadata": {},
   "source": [
    "📖 **Exercício 3**:  Escreva um programa que permita ao usuário adicionar mais texto ao arquivo meu_texto.txt sem apagar o conteúdo existente. O programa deve utilizar o modo de abertura \"a\" (anexação).\n",
    "\n"
   ]
  },
  {
   "cell_type": "code",
   "execution_count": null,
   "id": "0253064b",
   "metadata": {},
   "outputs": [],
   "source": [
    "# Adicione sua solução aqui"
   ]
  },
  {
   "cell_type": "markdown",
   "id": "14e4b9d0",
   "metadata": {},
   "source": [
    "📖 **Exercício 4**: Crie um programa que gerencia uma lista de tarefas, permitindo ao usuário adicionar novas tarefas e exibir a lista.\n",
    "As tarefas devem ser armazenadas no arquivo tarefas.txt.\n",
    "\n",
    "Requisitos:\n",
    "- O programa deve permitir que o usuário adicione quantas tarefas quiser.\n",
    "- Se o usuário digitar \"listar\", o programa deve exibir todas as tarefas.\n",
    "- Se o usuário digitar "
   ]
  },
  {
   "cell_type": "code",
   "execution_count": null,
   "id": "9dcea98f",
   "metadata": {},
   "outputs": [],
   "source": [
    "# Adicione sua solução aqui"
   ]
  },
  {
   "cell_type": "markdown",
   "id": "c4a9d1e4",
   "metadata": {},
   "source": [
    "## 📝 **Exercícios para Praticar**: \n",
    "\n",
    "### 🟢 **Nível Fácil**: contador de linhas\n",
    "\n",
    "Crie um programa que solicita ao usuário o nome de um arquivo de texto (.txt). O programa deve abrir esse arquivo e contar quantas linhas ele contém.\n",
    "\n",
    "Requisitos:\n",
    "\n",
    "- O usuário deve fornecer o nome do arquivo (exemplo: meutexto.txt).\n",
    "- O programa deve exibir o número total de linhas no arquivo.\n",
    "\n",
    "### 🔵 **Nível Médio**: cifrando um arquivo com a Cifra de César. \n",
    "\n",
    "#### **📌 Introdução**  \n",
    "\n",
    "A **Cifra de César** é um dos métodos de criptografia mais antigos e simples. Ela funciona deslocando cada letra do texto original **um número fixo de posições** no alfabeto.  \n",
    "\n",
    "Por exemplo, se utilizarmos um deslocamento de **3 posições**:  \n",
    "\n",
    "- A letra **\"A\"** se torna **\"D\"**  \n",
    "- A letra **\"B\"** se torna **\"E\"**  \n",
    "- A palavra **\"PYTHON\"** se torna **\"SBWKRQ\"**  \n",
    "\n",
    "Este método é uma forma **simples** de ocultar informações e é um ótimo exercício para manipulação de strings e arquivos em Python.\n",
    "\n",
    "#### **📌 Descrição do Exercício**  \n",
    "\n",
    "Escreva um programa que:  \n",
    "\n",
    "1. **Solicita ao usuário o nome de um arquivo de texto (`.txt`) para ser lido.**  \n",
    "2. **Solicita ao usuário um número inteiro que representará o deslocamento da Cifra de César.**  \n",
    "3. **Lê o conteúdo do arquivo e cifra o texto usando a Cifra de César.**  \n",
    "4. **Salva o texto cifrado em um novo arquivo chamado `arquivo_cifrado.txt`.**  \n",
    "\n",
    "\n",
    "#### **📌 Requisitos**  \n",
    "\n",
    "- O programa deve **ler um arquivo** e **criptografar seu conteúdo** utilizando a **Cifra de César**.  \n",
    "- O deslocamento deve ser definido pelo usuário.  \n",
    "- Apenas **letras do alfabeto** devem ser cifradas. Números, espaços e pontuações devem permanecer inalterados.  \n",
    "- O programa deve salvar o texto cifrado em um novo arquivo **sem modificar o original**.  \n",
    "\n",
    "---\n",
    "\n",
    "#### **📌 Exemplo de Entrada e Saída**  \n",
    "\n",
    "**📂 Arquivo de Entrada (`mensagem.txt`)**  \n",
    "\n",
    "```\n",
    "Python é uma linguagem incrível!\n",
    "```\n",
    "\n",
    "**Usuário digita:**  \n",
    "```\n",
    "Digite o nome do arquivo: mensagem.txt\n",
    "Digite o deslocamento: 3\n",
    "```\n",
    "\n",
    "**📂 Arquivo Gerado (`arquivo_cifrado.txt`)**  \n",
    "```\n",
    "Sbwkrq é xpd odqjxdjhp lqfuyháv!\n",
    "```"
   ]
  },
  {
   "cell_type": "markdown",
   "id": "c56f62ad",
   "metadata": {},
   "source": [
    "---\n",
    "\n",
    "## ✅ Conclusão  \n",
    "\n",
    "Parabéns por concluir esta aula!\n",
    "\n",
    "### 🎯 O que aprendemos hoje?  \n",
    "\n",
    "Nesta aula, exploramos os conceitos fundamentais da manipulação de arquivos em Python, abordando como ler, escrever e modificar arquivos simples. Compreendemos a importância desses formatos para o armazenamento e troca de informações, além de aprender boas práticas para trabalhar com arquivos de maneira eficiente e segura.\n",
    "\n",
    "### 📌 Próximos Passos  \n",
    "- Resolva os problemas na seção \"Exercícios para Praticar\".\n",
    "- Explorar formas de tratar erros comuns ao trabalhar com arquivos, como arquivos inexistentes ou problemas de codificação.\n",
    "\n",
    "### Parabéns pela dedicação! Nos vemos na próxima aula!"
   ]
  }
 ],
 "metadata": {
  "kernelspec": {
   "display_name": "base",
   "language": "python",
   "name": "python3"
  },
  "language_info": {
   "codemirror_mode": {
    "name": "ipython",
    "version": 3
   },
   "file_extension": ".py",
   "mimetype": "text/x-python",
   "name": "python",
   "nbconvert_exporter": "python",
   "pygments_lexer": "ipython3",
   "version": "3.11.7"
  }
 },
 "nbformat": 4,
 "nbformat_minor": 5
}
